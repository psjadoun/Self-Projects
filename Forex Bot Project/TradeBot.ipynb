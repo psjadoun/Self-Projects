{
 "cells": [
  {
   "cell_type": "code",
   "execution_count": 87,
   "metadata": {},
   "outputs": [],
   "source": [
    "import pandas as pd\n",
    "import numpy as np\n",
    "import matplotlib.pyplot as plt\n",
    "import seaborn as sns\n",
    "from sklearn.preprocessing import MinMaxScaler\n",
    "from keras.layers import *\n",
    "from sklearn.metrics import mean_squared_error, mean_absolute_percentage_error"
   ]
  },
  {
   "cell_type": "code",
   "execution_count": 14,
   "metadata": {},
   "outputs": [
    {
     "data": {
      "text/html": [
       "<div>\n",
       "<style scoped>\n",
       "    .dataframe tbody tr th:only-of-type {\n",
       "        vertical-align: middle;\n",
       "    }\n",
       "\n",
       "    .dataframe tbody tr th {\n",
       "        vertical-align: top;\n",
       "    }\n",
       "\n",
       "    .dataframe thead th {\n",
       "        text-align: right;\n",
       "    }\n",
       "</style>\n",
       "<table border=\"1\" class=\"dataframe\">\n",
       "  <thead>\n",
       "    <tr style=\"text-align: right;\">\n",
       "      <th></th>\n",
       "      <th>Date</th>\n",
       "      <th>Time</th>\n",
       "      <th>Open</th>\n",
       "      <th>High</th>\n",
       "      <th>Low</th>\n",
       "      <th>Close</th>\n",
       "      <th>M</th>\n",
       "    </tr>\n",
       "  </thead>\n",
       "  <tbody>\n",
       "    <tr>\n",
       "      <th>0</th>\n",
       "      <td>2022.01.03</td>\n",
       "      <td>0:02</td>\n",
       "      <td>1.13674</td>\n",
       "      <td>1.13674</td>\n",
       "      <td>1.13674</td>\n",
       "      <td>1.13674</td>\n",
       "      <td>1</td>\n",
       "    </tr>\n",
       "    <tr>\n",
       "      <th>1</th>\n",
       "      <td>2022.01.03</td>\n",
       "      <td>0:03</td>\n",
       "      <td>1.13663</td>\n",
       "      <td>1.13674</td>\n",
       "      <td>1.13663</td>\n",
       "      <td>1.13674</td>\n",
       "      <td>5</td>\n",
       "    </tr>\n",
       "    <tr>\n",
       "      <th>2</th>\n",
       "      <td>2022.01.03</td>\n",
       "      <td>0:04</td>\n",
       "      <td>1.13663</td>\n",
       "      <td>1.13687</td>\n",
       "      <td>1.13663</td>\n",
       "      <td>1.13687</td>\n",
       "      <td>3</td>\n",
       "    </tr>\n",
       "    <tr>\n",
       "      <th>3</th>\n",
       "      <td>2022.01.03</td>\n",
       "      <td>0:05</td>\n",
       "      <td>1.13674</td>\n",
       "      <td>1.13687</td>\n",
       "      <td>1.13674</td>\n",
       "      <td>1.13674</td>\n",
       "      <td>3</td>\n",
       "    </tr>\n",
       "    <tr>\n",
       "      <th>4</th>\n",
       "      <td>2022.01.03</td>\n",
       "      <td>0:06</td>\n",
       "      <td>1.13684</td>\n",
       "      <td>1.13684</td>\n",
       "      <td>1.13644</td>\n",
       "      <td>1.13644</td>\n",
       "      <td>5</td>\n",
       "    </tr>\n",
       "  </tbody>\n",
       "</table>\n",
       "</div>"
      ],
      "text/plain": [
       "         Date  Time     Open     High      Low    Close  M\n",
       "0  2022.01.03  0:02  1.13674  1.13674  1.13674  1.13674  1\n",
       "1  2022.01.03  0:03  1.13663  1.13674  1.13663  1.13674  5\n",
       "2  2022.01.03  0:04  1.13663  1.13687  1.13663  1.13687  3\n",
       "3  2022.01.03  0:05  1.13674  1.13687  1.13674  1.13674  3\n",
       "4  2022.01.03  0:06  1.13684  1.13684  1.13644  1.13644  5"
      ]
     },
     "execution_count": 14,
     "metadata": {},
     "output_type": "execute_result"
    }
   ],
   "source": [
    "df = pd.read_csv(\"Resources/EURUSD_2022_01.csv\")\n",
    "df.head()"
   ]
  },
  {
   "cell_type": "code",
   "execution_count": 18,
   "metadata": {},
   "outputs": [
    {
     "name": "stdout",
     "output_type": "stream",
     "text": [
      "                        open     high      low    close  volume  momentum  \\\n",
      "timestamp                                                                   \n",
      "2022-01-03 00:02:00  1.13674  1.13674  1.13674  1.13674     1.0   0.00000   \n",
      "2022-01-03 00:03:00  1.13663  1.13674  1.13663  1.13674     5.0  -0.00055   \n",
      "2022-01-03 00:04:00  1.13663  1.13687  1.13663  1.13687     3.0  -0.00072   \n",
      "2022-01-03 00:05:00  1.13674  1.13687  1.13674  1.13674     3.0   0.00000   \n",
      "2022-01-03 00:06:00  1.13684  1.13684  1.13644  1.13644     5.0   0.00200   \n",
      "\n",
      "                     avg_price  ohlc_price  oc_diff  \n",
      "timestamp                                            \n",
      "2022-01-03 00:02:00   1.136740    1.136740  0.00000  \n",
      "2022-01-03 00:03:00   1.136685    1.136685 -0.00011  \n",
      "2022-01-03 00:04:00   1.136750    1.136750 -0.00024  \n",
      "2022-01-03 00:05:00   1.136805    1.136772  0.00000  \n",
      "2022-01-03 00:06:00   1.136640    1.136640  0.00040  \n"
     ]
    }
   ],
   "source": [
    "df[\"Datetime\"] = df['Date'] + \"_\" +df['Time']\n",
    "df2[\"Datetime\"] = df2['Date']+\"_\" +df2['Time']\n",
    "df[\"Datetime\"] = pd.to_datetime(df['Datetime'], format='%Y.%m.%d_%H:%M')\n",
    "df = df.drop(['Date','Time'],1)\n",
    "# Rename bid OHLC columns\n",
    "df.rename(columns={'Datetime': 'timestamp', 'Open': 'open', 'Close': 'close',\n",
    "                   'High': 'high', 'Low': 'low', 'Close': 'close', 'M': 'volume'}, inplace=True)\n",
    "df.index = df[\"timestamp\"] +  pd.to_timedelta(2.5, unit='h')\n",
    "df = df.astype(float)\n",
    "\n",
    "\n",
    "# Add additional features\n",
    "df['momentum'] = df['volume'] * (df['open'] - df['close'])\n",
    "df['avg_price'] = (df['low'] + df['high']) / 2\n",
    "# df['range'] = df['high'] - df['low']\n",
    "df['ohlc_price'] = (df['low'] + df['high'] + df['open'] + df['close']) / 4\n",
    "df['oc_diff'] = df['open'] - df['close']\n",
    "\n",
    "print(df.head())"
   ]
  },
  {
   "cell_type": "markdown",
   "metadata": {},
   "source": [
    "# Time series forecasting"
   ]
  },
  {
   "cell_type": "code",
   "execution_count": 221,
   "metadata": {},
   "outputs": [
    {
     "data": {
      "text/plain": [
       "(30095, 50, 1)"
      ]
     },
     "execution_count": 221,
     "metadata": {},
     "output_type": "execute_result"
    }
   ],
   "source": [
    "# Data preparation for model training\n",
    "def create_dataset(dataset, look_back=20):\n",
    "    dataX, dataY = [], []\n",
    "    for i in range(len(dataset) - look_back - 1):\n",
    "        a = dataset[i:(i + look_back)]\n",
    "        dataX.append(a)\n",
    "        dataY.append(dataset[i + look_back])\n",
    "    return np.array(dataX), np.array(dataY)\n",
    "\n",
    "# Create close_scaler to inverse it later\n",
    "close_scaler = MinMaxScaler(feature_range=(0, 1))\n",
    "close_scaler = close_scaler.fit(df[['close']])\n",
    "closed = close_scaler.transform(df[['close']])\n",
    "\n",
    "# Create open_scaler to inverse it later\n",
    "open_scaler = MinMaxScaler(feature_range=(0, 1))\n",
    "open_scaler = open_scaler.fit(df[['open']])\n",
    "opened = open_scaler.transform(df[['open']])\n",
    "\n",
    "X_close, y_close = create_dataset(closed, look_back=50)\n",
    "X_open,y_open = create_dataset(opened, look_back=50)\n",
    "\n",
    "train_size = int(len(X) * 0.99)\n",
    "\n",
    "trainX1 = X_close[:train_size]\n",
    "trainY1 = y_close[:train_size]\n",
    "testX1 = X_close[train_size:]\n",
    "testY1 = y_close[train_size:]\n",
    "\n",
    "trainX2 = X_open[:train_size]\n",
    "trainY2 = y_open[:train_size]\n",
    "testX2 = X_open[train_size:]\n",
    "testY2 = y_open[train_size:]\n",
    "\n",
    "X_close.shape"
   ]
  },
  {
   "cell_type": "code",
   "execution_count": 222,
   "metadata": {},
   "outputs": [
    {
     "data": {
      "text/plain": [
       "(30095, 50, 1)"
      ]
     },
     "execution_count": 222,
     "metadata": {},
     "output_type": "execute_result"
    }
   ],
   "source": [
    "X_open.shape"
   ]
  },
  {
   "cell_type": "markdown",
   "metadata": {},
   "source": [
    "# Bidirectional LSTM model creation"
   ]
  },
  {
   "cell_type": "code",
   "execution_count": 126,
   "metadata": {},
   "outputs": [
    {
     "name": "stdout",
     "output_type": "stream",
     "text": [
      "Model: \"sequential_22\"\n",
      "_________________________________________________________________\n",
      " Layer (type)                Output Shape              Param #   \n",
      "=================================================================\n",
      " bidirectional_14 (Bidirecti  (None, 50, 30)           7680      \n",
      " onal)                                                           \n",
      "                                                                 \n",
      " lstm_43 (LSTM)              (None, 50, 10)            1640      \n",
      "                                                                 \n",
      " dropout_14 (Dropout)        (None, 50, 10)            0         \n",
      "                                                                 \n",
      " lstm_44 (LSTM)              (None, 4)                 240       \n",
      "                                                                 \n",
      " dense_34 (Dense)            (None, 4)                 20        \n",
      "                                                                 \n",
      " dense_35 (Dense)            (None, 1)                 5         \n",
      "                                                                 \n",
      "=================================================================\n",
      "Total params: 9,585\n",
      "Trainable params: 9,585\n",
      "Non-trainable params: 0\n",
      "_________________________________________________________________\n",
      "None\n"
     ]
    }
   ],
   "source": [
    "# preparing model architecture for forecasting closing prices\n",
    "model = Sequential()\n",
    "model.add(\n",
    "    Bidirectional(LSTM(30, input_shape=(trainX1.shape[1], trainX1.shape[2]),\n",
    "                       return_sequences=True),\n",
    "                  merge_mode='sum',\n",
    "                  weights=None,\n",
    "                  input_shape=(trainX1.shape[1], trainX1.shape[2])))\n",
    "model.add(LSTM(10, return_sequences=True))\n",
    "model.add(Dropout(0.2))\n",
    "model.add(LSTM(4, return_sequences=False))\n",
    "model.add(Dense(4, kernel_initializer='uniform', activation='relu'))\n",
    "model.add(Dense(1, kernel_initializer='uniform', activation='relu'))\n",
    "\n",
    "model.compile(loss='mean_squared_error', optimizer='adam', metrics=['mae', 'mse'])\n",
    "print(model.summary())"
   ]
  },
  {
   "cell_type": "code",
   "execution_count": 127,
   "metadata": {},
   "outputs": [
    {
     "name": "stdout",
     "output_type": "stream",
     "text": [
      "Model: \"sequential_23\"\n",
      "_________________________________________________________________\n",
      " Layer (type)                Output Shape              Param #   \n",
      "=================================================================\n",
      " bidirectional_15 (Bidirecti  (None, 50, 30)           7680      \n",
      " onal)                                                           \n",
      "                                                                 \n",
      " lstm_46 (LSTM)              (None, 50, 10)            1640      \n",
      "                                                                 \n",
      " dropout_15 (Dropout)        (None, 50, 10)            0         \n",
      "                                                                 \n",
      " lstm_47 (LSTM)              (None, 4)                 240       \n",
      "                                                                 \n",
      " dense_36 (Dense)            (None, 4)                 20        \n",
      "                                                                 \n",
      " dense_37 (Dense)            (None, 1)                 5         \n",
      "                                                                 \n",
      "=================================================================\n",
      "Total params: 9,585\n",
      "Trainable params: 9,585\n",
      "Non-trainable params: 0\n",
      "_________________________________________________________________\n",
      "None\n"
     ]
    }
   ],
   "source": [
    "# preparing model architecture for forecasting closing prices\n",
    "model_open = Sequential()\n",
    "model_open.add(\n",
    "    Bidirectional(LSTM(30, input_shape=(trainX2.shape[1], trainX2.shape[2]),\n",
    "                       return_sequences=True),\n",
    "                  merge_mode='sum',\n",
    "                  weights=None,\n",
    "                  input_shape=(trainX2.shape[1], trainX2.shape[2])))\n",
    "model_open.add(LSTM(10, return_sequences=True))\n",
    "model_open.add(Dropout(0.2))\n",
    "model_open.add(LSTM(4, return_sequences=False))\n",
    "model_open.add(Dense(4, kernel_initializer='uniform', activation='relu'))\n",
    "model_open.add(Dense(1, kernel_initializer='uniform', activation='relu'))\n",
    "\n",
    "model_open.compile(loss='mean_squared_error', optimizer='adam', metrics=['mae', 'mse'])\n",
    "print(model_open.summary())"
   ]
  },
  {
   "cell_type": "code",
   "execution_count": 128,
   "metadata": {},
   "outputs": [
    {
     "name": "stdout",
     "output_type": "stream",
     "text": [
      "Epoch 1/4\n",
      "457/457 [==============================] - 37s 63ms/step - loss: 0.0673 - mae: 0.1629 - mse: 0.0673 - val_loss: 0.0017 - val_mae: 0.0319 - val_mse: 0.0017\n",
      "Epoch 2/4\n",
      "457/457 [==============================] - 23s 51ms/step - loss: 0.0011 - mae: 0.0260 - mse: 0.0011 - val_loss: 7.7621e-04 - val_mae: 0.0224 - val_mse: 7.7621e-04\n",
      "Epoch 3/4\n",
      "457/457 [==============================] - 21s 47ms/step - loss: 6.1765e-04 - mae: 0.0190 - mse: 6.1765e-04 - val_loss: 0.0011 - val_mae: 0.0252 - val_mse: 0.0011\n",
      "Epoch 4/4\n",
      "457/457 [==============================] - 22s 49ms/step - loss: 4.4284e-04 - mae: 0.0160 - mse: 4.4284e-04 - val_loss: 0.0017 - val_mae: 0.0327 - val_mse: 0.0017\n",
      "Epoch 1/4\n",
      "457/457 [==============================] - 28s 50ms/step - loss: 0.0804 - mae: 0.1953 - mse: 0.0804 - val_loss: 4.4634e-04 - val_mae: 0.0169 - val_mse: 4.4634e-04\n",
      "Epoch 2/4\n",
      "457/457 [==============================] - 27s 59ms/step - loss: 6.4300e-04 - mae: 0.0182 - mse: 6.4300e-04 - val_loss: 0.0011 - val_mae: 0.0283 - val_mse: 0.0011\n",
      "Epoch 3/4\n",
      "457/457 [==============================] - 29s 62ms/step - loss: 2.7799e-04 - mae: 0.0128 - mse: 2.7799e-04 - val_loss: 6.0854e-04 - val_mae: 0.0205 - val_mse: 6.0854e-04\n",
      "Epoch 4/4\n",
      "457/457 [==============================] - 26s 56ms/step - loss: 2.1898e-04 - mae: 0.0113 - mse: 2.1898e-04 - val_loss: 6.9904e-04 - val_mae: 0.0223 - val_mse: 6.9904e-04\n"
     ]
    },
    {
     "data": {
      "text/plain": [
       "<keras.callbacks.History at 0x29071094130>"
      ]
     },
     "execution_count": 128,
     "metadata": {},
     "output_type": "execute_result"
    }
   ],
   "source": [
    "# Training model and forecasting\n",
    "model.fit(trainX1,trainY1,batch_size=64,epochs=4,validation_split=0.02)\n",
    "model_open.fit(trainX2,trainY2,batch_size=64,epochs=4,validation_split=0.02)"
   ]
  },
  {
   "cell_type": "code",
   "execution_count": 129,
   "metadata": {},
   "outputs": [
    {
     "name": "stdout",
     "output_type": "stream",
     "text": [
      "10/10 [==============================] - 2s 10ms/step\n",
      "10/10 [==============================] - 1s 10ms/step\n"
     ]
    },
    {
     "data": {
      "text/html": [
       "<div>\n",
       "<style scoped>\n",
       "    .dataframe tbody tr th:only-of-type {\n",
       "        vertical-align: middle;\n",
       "    }\n",
       "\n",
       "    .dataframe tbody tr th {\n",
       "        vertical-align: top;\n",
       "    }\n",
       "\n",
       "    .dataframe thead th {\n",
       "        text-align: right;\n",
       "    }\n",
       "</style>\n",
       "<table border=\"1\" class=\"dataframe\">\n",
       "  <thead>\n",
       "    <tr style=\"text-align: right;\">\n",
       "      <th></th>\n",
       "      <th>predicted_close</th>\n",
       "      <th>close</th>\n",
       "      <th>predicted_open</th>\n",
       "      <th>open</th>\n",
       "      <th>low</th>\n",
       "      <th>high</th>\n",
       "    </tr>\n",
       "    <tr>\n",
       "      <th>timestamp</th>\n",
       "      <th></th>\n",
       "      <th></th>\n",
       "      <th></th>\n",
       "      <th></th>\n",
       "      <th></th>\n",
       "      <th></th>\n",
       "    </tr>\n",
       "  </thead>\n",
       "  <tbody>\n",
       "    <tr>\n",
       "      <th>2022-01-31 19:00:00</th>\n",
       "      <td>1.121077</td>\n",
       "      <td>1.12101</td>\n",
       "      <td>1.120994</td>\n",
       "      <td>1.12081</td>\n",
       "      <td>1.12103</td>\n",
       "      <td>1.12132</td>\n",
       "    </tr>\n",
       "    <tr>\n",
       "      <th>2022-01-31 19:01:00</th>\n",
       "      <td>1.121113</td>\n",
       "      <td>1.12127</td>\n",
       "      <td>1.121009</td>\n",
       "      <td>1.12103</td>\n",
       "      <td>1.12094</td>\n",
       "      <td>1.12128</td>\n",
       "    </tr>\n",
       "    <tr>\n",
       "      <th>2022-01-31 19:02:00</th>\n",
       "      <td>1.121154</td>\n",
       "      <td>1.12099</td>\n",
       "      <td>1.121037</td>\n",
       "      <td>1.12127</td>\n",
       "      <td>1.12100</td>\n",
       "      <td>1.12120</td>\n",
       "    </tr>\n",
       "    <tr>\n",
       "      <th>2022-01-31 19:03:00</th>\n",
       "      <td>1.121197</td>\n",
       "      <td>1.12119</td>\n",
       "      <td>1.121078</td>\n",
       "      <td>1.12100</td>\n",
       "      <td>1.12111</td>\n",
       "      <td>1.12120</td>\n",
       "    </tr>\n",
       "    <tr>\n",
       "      <th>2022-01-31 19:04:00</th>\n",
       "      <td>1.121243</td>\n",
       "      <td>1.12119</td>\n",
       "      <td>1.121104</td>\n",
       "      <td>1.12120</td>\n",
       "      <td>1.12118</td>\n",
       "      <td>1.12148</td>\n",
       "    </tr>\n",
       "  </tbody>\n",
       "</table>\n",
       "</div>"
      ],
      "text/plain": [
       "                     predicted_close    close  predicted_open     open  \\\n",
       "timestamp                                                                \n",
       "2022-01-31 19:00:00         1.121077  1.12101        1.120994  1.12081   \n",
       "2022-01-31 19:01:00         1.121113  1.12127        1.121009  1.12103   \n",
       "2022-01-31 19:02:00         1.121154  1.12099        1.121037  1.12127   \n",
       "2022-01-31 19:03:00         1.121197  1.12119        1.121078  1.12100   \n",
       "2022-01-31 19:04:00         1.121243  1.12119        1.121104  1.12120   \n",
       "\n",
       "                         low     high  \n",
       "timestamp                              \n",
       "2022-01-31 19:00:00  1.12103  1.12132  \n",
       "2022-01-31 19:01:00  1.12094  1.12128  \n",
       "2022-01-31 19:02:00  1.12100  1.12120  \n",
       "2022-01-31 19:03:00  1.12111  1.12120  \n",
       "2022-01-31 19:04:00  1.12118  1.12148  "
      ]
     },
     "execution_count": 129,
     "metadata": {},
     "output_type": "execute_result"
    }
   ],
   "source": [
    "pred_close = model.predict(testX1)\n",
    "pred_close = np.reshape(close_scaler.inverse_transform(pred_close), (pred_close.shape[0]))\n",
    "close = np.reshape(close_scaler.inverse_transform(testY1), (testY1.shape[0]))\n",
    "predictions = pd.DataFrame()\n",
    "predictions['predicted_close'] = pd.Series(pred_close)\n",
    "predictions['close'] = pd.Series(close)\n",
    "\n",
    "pred_open = model_open.predict(testX2)\n",
    "pred_open = np.reshape(open_scaler.inverse_transform(pred_open), (pred_open.shape[0]))\n",
    "openn = np.reshape(open_scaler.inverse_transform(testY2), (testY2.shape[0]))\n",
    "predictions['predicted_open'] = pd.Series(pred_open)\n",
    "predictions['open'] = pd.Series(openn)\n",
    "\n",
    "p = df[-pred.shape[0]:].copy()\n",
    "predictions.index = p.index\n",
    "predictions = predictions.astype(float)\n",
    "predictions = predictions.merge(p[['low', 'high']], right_index=True, left_index=True)\n",
    "predictions.head()"
   ]
  },
  {
   "cell_type": "code",
   "execution_count": 138,
   "metadata": {},
   "outputs": [
    {
     "name": "stderr",
     "output_type": "stream",
     "text": [
      "C:\\Users\\panka\\anaconda3\\lib\\site-packages\\seaborn\\distributions.py:2551: FutureWarning: `distplot` is a deprecated function and will be removed in a future version. Please adapt your code to use either `displot` (a figure-level function with similar flexibility) or `histplot` (an axes-level function for histograms).\n",
      "  warnings.warn(msg, FutureWarning)\n",
      "C:\\Users\\panka\\anaconda3\\lib\\site-packages\\seaborn\\_decorators.py:36: FutureWarning: Pass the following variables as keyword args: x, y. From version 0.12, the only valid positional argument will be `data`, and passing other arguments without an explicit keyword will result in an error or misinterpretation.\n",
      "  warnings.warn(\n"
     ]
    },
    {
     "name": "stdout",
     "output_type": "stream",
     "text": [
      "MSE :  1.3847649039994893e-07\n",
      "MAPE :  0.00023993399208203404\n"
     ]
    },
    {
     "data": {
      "text/plain": [
       "count    301.000000\n",
       "mean       0.000046\n",
       "std        0.000370\n",
       "min       -0.001055\n",
       "25%       -0.000090\n",
       "50%        0.000044\n",
       "75%        0.000247\n",
       "max        0.001122\n",
       "Name: diff_close, dtype: float64"
      ]
     },
     "execution_count": 138,
     "metadata": {},
     "output_type": "execute_result"
    },
    {
     "data": {
      "image/png": "[encoded data removed]",
      "text/plain": [
       "<Figure size 2880x1080 with 1 Axes>"
      ]
     },
     "metadata": {
      "needs_background": "light"
     },
     "output_type": "display_data"
    },
    {
     "data": {
      "image/png": "[encoded data removed]",
      "text/plain": [
       "<Figure size 720x720 with 1 Axes>"
      ]
     },
     "metadata": {
      "needs_background": "light"
     },
     "output_type": "display_data"
    },
    {
     "data": {
      "image/png": "[encoded data removed]",
      "text/plain": [
       "<Figure size 432x432 with 3 Axes>"
      ]
     },
     "metadata": {
      "needs_background": "light"
     },
     "output_type": "display_data"
    }
   ],
   "source": [
    "ax = predictions.plot(y=\"close\",c=\"red\",figsize=(40,15))\n",
    "ax = predictions.plot(y=\"predicted_close\", c=\"blue\",ax=ax)\n",
    "ax = predictions.plot(y=\"open\",c=\"green\",ax=ax)\n",
    "ax = predictions.plot(y=\"predicted_open\", c=\"black\",ax=ax)\n",
    "plt.fill_between(x=predictions.index, y1='low', y2='high', data=p, alpha=0.4)\n",
    "plt.title('Prediction vs Actual (low and high as blue region)')\n",
    "\n",
    "predictions['diff_close'] = predictions['close'] - predictions['predicted_close']\n",
    "plt.figure(figsize=(10, 10))\n",
    "sns.distplot(predictions['diff_close']);\n",
    "plt.title('Distribution of differences between actual and prediction ')\n",
    "\n",
    "g = sns.jointplot(\"diff_close\", \"close\", data=predictions, kind=\"kde\", space=0)\n",
    "plt.title('Distributtion of error and price')\n",
    "\n",
    "print(\"MSE : \", mean_squared_error(predictions['close'].values, predictions['predicted_close'].values))\n",
    "print(\"MAPE : \", mean_absolute_percentage_error(predictions['close'].values, predictions['predicted_close'].values))\n",
    "predictions['diff_close'].describe()\n",
    "\n",
    "# MAPE of 0.02% and graphical visualisation indicates good prediction of forex trend to give signals accurately enough for trading\n",
    "# Open, Close are predicted and represented in line plot below\n",
    "# Range of High and low are depicted using light blue spreaded line\n",
    "# Distribution on difference between predicted and actual closing price are depicted"
   ]
  },
  {
   "cell_type": "code",
   "execution_count": 202,
   "metadata": {},
   "outputs": [
    {
     "data": {
      "text/html": [
       "<div>\n",
       "<style scoped>\n",
       "    .dataframe tbody tr th:only-of-type {\n",
       "        vertical-align: middle;\n",
       "    }\n",
       "\n",
       "    .dataframe tbody tr th {\n",
       "        vertical-align: top;\n",
       "    }\n",
       "\n",
       "    .dataframe thead th {\n",
       "        text-align: right;\n",
       "    }\n",
       "</style>\n",
       "<table border=\"1\" class=\"dataframe\">\n",
       "  <thead>\n",
       "    <tr style=\"text-align: right;\">\n",
       "      <th></th>\n",
       "      <th>Date</th>\n",
       "      <th>Time</th>\n",
       "      <th>Currency</th>\n",
       "      <th>Description</th>\n",
       "      <th>Actual</th>\n",
       "      <th>Forecast</th>\n",
       "      <th>Previous</th>\n",
       "    </tr>\n",
       "  </thead>\n",
       "  <tbody>\n",
       "    <tr>\n",
       "      <th>0</th>\n",
       "      <td>2021.07.19</td>\n",
       "      <td>04:00</td>\n",
       "      <td>NZD</td>\n",
       "      <td>BusinessNZ Services Index</td>\n",
       "      <td>58.6</td>\n",
       "      <td>NaN</td>\n",
       "      <td>56.3</td>\n",
       "    </tr>\n",
       "    <tr>\n",
       "      <th>1</th>\n",
       "      <td>2021.07.19</td>\n",
       "      <td>04:31</td>\n",
       "      <td>GBP</td>\n",
       "      <td>Rightmove HPI m/m</td>\n",
       "      <td>0.007</td>\n",
       "      <td>NaN</td>\n",
       "      <td>0.008</td>\n",
       "    </tr>\n",
       "    <tr>\n",
       "      <th>2</th>\n",
       "      <td>2021.07.19</td>\n",
       "      <td>15:30</td>\n",
       "      <td>EUR</td>\n",
       "      <td>German Buba Monthly Report</td>\n",
       "      <td>NaN</td>\n",
       "      <td>NaN</td>\n",
       "      <td>NaN</td>\n",
       "    </tr>\n",
       "    <tr>\n",
       "      <th>3</th>\n",
       "      <td>2021.07.19</td>\n",
       "      <td>15:30</td>\n",
       "      <td>GBP</td>\n",
       "      <td>MPC Member Haskel Speaks</td>\n",
       "      <td>NaN</td>\n",
       "      <td>NaN</td>\n",
       "      <td>NaN</td>\n",
       "    </tr>\n",
       "    <tr>\n",
       "      <th>4</th>\n",
       "      <td>2021.07.19</td>\n",
       "      <td>19:30</td>\n",
       "      <td>USD</td>\n",
       "      <td>NAHB Housing Market Index</td>\n",
       "      <td>80</td>\n",
       "      <td>82</td>\n",
       "      <td>81</td>\n",
       "    </tr>\n",
       "  </tbody>\n",
       "</table>\n",
       "</div>"
      ],
      "text/plain": [
       "         Date   Time Currency                 Description Actual Forecast  \\\n",
       "0  2021.07.19  04:00      NZD   BusinessNZ Services Index   58.6      NaN   \n",
       "1  2021.07.19  04:31      GBP           Rightmove HPI m/m  0.007      NaN   \n",
       "2  2021.07.19  15:30      EUR  German Buba Monthly Report    NaN      NaN   \n",
       "3  2021.07.19  15:30      GBP    MPC Member Haskel Speaks    NaN      NaN   \n",
       "4  2021.07.19  19:30      USD   NAHB Housing Market Index     80       82   \n",
       "\n",
       "  Previous  \n",
       "0     56.3  \n",
       "1    0.008  \n",
       "2      NaN  \n",
       "3      NaN  \n",
       "4       81  "
      ]
     },
     "execution_count": 202,
     "metadata": {},
     "output_type": "execute_result"
    }
   ],
   "source": [
    "df2 = pd.read_csv(\"Resources/Replaced_data.csv\")\n",
    "df2.head()"
   ]
  },
  {
   "cell_type": "code",
   "execution_count": 203,
   "metadata": {},
   "outputs": [
    {
     "data": {
      "text/html": [
       "<div>\n",
       "<style scoped>\n",
       "    .dataframe tbody tr th:only-of-type {\n",
       "        vertical-align: middle;\n",
       "    }\n",
       "\n",
       "    .dataframe tbody tr th {\n",
       "        vertical-align: top;\n",
       "    }\n",
       "\n",
       "    .dataframe thead th {\n",
       "        text-align: right;\n",
       "    }\n",
       "</style>\n",
       "<table border=\"1\" class=\"dataframe\">\n",
       "  <thead>\n",
       "    <tr style=\"text-align: right;\">\n",
       "      <th></th>\n",
       "      <th>Date</th>\n",
       "      <th>Time</th>\n",
       "      <th>Currency</th>\n",
       "      <th>Description</th>\n",
       "      <th>Actual</th>\n",
       "      <th>Forecast</th>\n",
       "      <th>Previous</th>\n",
       "      <th>Datetime</th>\n",
       "    </tr>\n",
       "  </thead>\n",
       "  <tbody>\n",
       "    <tr>\n",
       "      <th>0</th>\n",
       "      <td>2021.07.19</td>\n",
       "      <td>04:00</td>\n",
       "      <td>NZD</td>\n",
       "      <td>BusinessNZ Services Index</td>\n",
       "      <td>58.6</td>\n",
       "      <td>NaN</td>\n",
       "      <td>56.3</td>\n",
       "      <td>NaN</td>\n",
       "    </tr>\n",
       "    <tr>\n",
       "      <th>1</th>\n",
       "      <td>2021.07.19</td>\n",
       "      <td>04:31</td>\n",
       "      <td>GBP</td>\n",
       "      <td>Rightmove HPI m/m</td>\n",
       "      <td>0.007</td>\n",
       "      <td>NaN</td>\n",
       "      <td>0.008</td>\n",
       "      <td>NaN</td>\n",
       "    </tr>\n",
       "    <tr>\n",
       "      <th>2</th>\n",
       "      <td>2021.07.19</td>\n",
       "      <td>15:30</td>\n",
       "      <td>EUR</td>\n",
       "      <td>German Buba Monthly Report</td>\n",
       "      <td>NaN</td>\n",
       "      <td>NaN</td>\n",
       "      <td>NaN</td>\n",
       "      <td>NaN</td>\n",
       "    </tr>\n",
       "    <tr>\n",
       "      <th>3</th>\n",
       "      <td>2021.07.19</td>\n",
       "      <td>15:30</td>\n",
       "      <td>GBP</td>\n",
       "      <td>MPC Member Haskel Speaks</td>\n",
       "      <td>NaN</td>\n",
       "      <td>NaN</td>\n",
       "      <td>NaN</td>\n",
       "      <td>NaN</td>\n",
       "    </tr>\n",
       "    <tr>\n",
       "      <th>4</th>\n",
       "      <td>2021.07.19</td>\n",
       "      <td>19:30</td>\n",
       "      <td>USD</td>\n",
       "      <td>NAHB Housing Market Index</td>\n",
       "      <td>80</td>\n",
       "      <td>82</td>\n",
       "      <td>81</td>\n",
       "      <td>NaN</td>\n",
       "    </tr>\n",
       "  </tbody>\n",
       "</table>\n",
       "</div>"
      ],
      "text/plain": [
       "         Date   Time Currency                 Description Actual Forecast  \\\n",
       "0  2021.07.19  04:00      NZD   BusinessNZ Services Index   58.6      NaN   \n",
       "1  2021.07.19  04:31      GBP           Rightmove HPI m/m  0.007      NaN   \n",
       "2  2021.07.19  15:30      EUR  German Buba Monthly Report    NaN      NaN   \n",
       "3  2021.07.19  15:30      GBP    MPC Member Haskel Speaks    NaN      NaN   \n",
       "4  2021.07.19  19:30      USD   NAHB Housing Market Index     80       82   \n",
       "\n",
       "  Previous Datetime  \n",
       "0     56.3      NaN  \n",
       "1    0.008      NaN  \n",
       "2      NaN      NaN  \n",
       "3      NaN      NaN  \n",
       "4       81      NaN  "
      ]
     },
     "execution_count": 203,
     "metadata": {},
     "output_type": "execute_result"
    }
   ],
   "source": [
    "df2['Datetime'] = df2[['Date','Time']].apply(lambda x: str(x[0]) + \"_\" + str(x[1]))\n",
    "df2.head()"
   ]
  },
  {
   "cell_type": "code",
   "execution_count": 204,
   "metadata": {},
   "outputs": [
    {
     "data": {
      "text/html": [
       "<div>\n",
       "<style scoped>\n",
       "    .dataframe tbody tr th:only-of-type {\n",
       "        vertical-align: middle;\n",
       "    }\n",
       "\n",
       "    .dataframe tbody tr th {\n",
       "        vertical-align: top;\n",
       "    }\n",
       "\n",
       "    .dataframe thead th {\n",
       "        text-align: right;\n",
       "    }\n",
       "</style>\n",
       "<table border=\"1\" class=\"dataframe\">\n",
       "  <thead>\n",
       "    <tr style=\"text-align: right;\">\n",
       "      <th></th>\n",
       "      <th>Date</th>\n",
       "      <th>Time</th>\n",
       "      <th>Currency</th>\n",
       "      <th>Description</th>\n",
       "      <th>Actual</th>\n",
       "      <th>Forecast</th>\n",
       "      <th>Previous</th>\n",
       "      <th>Datetime</th>\n",
       "    </tr>\n",
       "  </thead>\n",
       "  <tbody>\n",
       "    <tr>\n",
       "      <th>2</th>\n",
       "      <td>2021.07.19</td>\n",
       "      <td>15:30</td>\n",
       "      <td>EUR</td>\n",
       "      <td>German Buba Monthly Report</td>\n",
       "      <td>NaN</td>\n",
       "      <td>NaN</td>\n",
       "      <td>NaN</td>\n",
       "      <td>NaN</td>\n",
       "    </tr>\n",
       "    <tr>\n",
       "      <th>4</th>\n",
       "      <td>2021.07.19</td>\n",
       "      <td>19:30</td>\n",
       "      <td>USD</td>\n",
       "      <td>NAHB Housing Market Index</td>\n",
       "      <td>80</td>\n",
       "      <td>82</td>\n",
       "      <td>81</td>\n",
       "      <td>NaN</td>\n",
       "    </tr>\n",
       "    <tr>\n",
       "      <th>5</th>\n",
       "      <td>2021.07.19</td>\n",
       "      <td>21:00</td>\n",
       "      <td>USD</td>\n",
       "      <td>President Biden Speaks</td>\n",
       "      <td>NaN</td>\n",
       "      <td>NaN</td>\n",
       "      <td>NaN</td>\n",
       "      <td>NaN</td>\n",
       "    </tr>\n",
       "    <tr>\n",
       "      <th>9</th>\n",
       "      <td>2021.07.20</td>\n",
       "      <td>11:30</td>\n",
       "      <td>EUR</td>\n",
       "      <td>German PPI m/m</td>\n",
       "      <td>0.013</td>\n",
       "      <td>0.013</td>\n",
       "      <td>0.015</td>\n",
       "      <td>NaN</td>\n",
       "    </tr>\n",
       "    <tr>\n",
       "      <th>10</th>\n",
       "      <td>2021.07.20</td>\n",
       "      <td>13:30</td>\n",
       "      <td>EUR</td>\n",
       "      <td>Current Account</td>\n",
       "      <td>11.7B</td>\n",
       "      <td>24.3B</td>\n",
       "      <td>22.1B</td>\n",
       "      <td>NaN</td>\n",
       "    </tr>\n",
       "  </tbody>\n",
       "</table>\n",
       "</div>"
      ],
      "text/plain": [
       "          Date   Time Currency                 Description Actual Forecast  \\\n",
       "2   2021.07.19  15:30      EUR  German Buba Monthly Report    NaN      NaN   \n",
       "4   2021.07.19  19:30      USD   NAHB Housing Market Index     80       82   \n",
       "5   2021.07.19  21:00      USD      President Biden Speaks    NaN      NaN   \n",
       "9   2021.07.20  11:30      EUR              German PPI m/m  0.013    0.013   \n",
       "10  2021.07.20  13:30      EUR             Current Account  11.7B    24.3B   \n",
       "\n",
       "   Previous Datetime  \n",
       "2       NaN      NaN  \n",
       "4        81      NaN  \n",
       "5       NaN      NaN  \n",
       "9     0.015      NaN  \n",
       "10    22.1B      NaN  "
      ]
     },
     "execution_count": 204,
     "metadata": {},
     "output_type": "execute_result"
    }
   ],
   "source": [
    "df2 = df2[df2[\"Currency\"].isin(['EUR','USD'])]\n",
    "df2.head()"
   ]
  },
  {
   "cell_type": "code",
   "execution_count": 205,
   "metadata": {},
   "outputs": [],
   "source": [
    "df2[\"Datetime\"] = df2['Date']+\"_\" +df2['Time']\n",
    "df2[\"timestamp\"] = pd.to_datetime(df2['Datetime'], format='%Y.%m.%d_%H:%M')"
   ]
  },
  {
   "cell_type": "code",
   "execution_count": 206,
   "metadata": {},
   "outputs": [],
   "source": [
    "df2.index = pd.to_datetime(df2['timestamp'], format='%Y.%m.%d_%H:%M')\n",
    "df2.drop(['Date','Time','Forecast','timestamp','Datetime'],1,inplace=True)\n",
    "df2 = df2.astype(str)"
   ]
  },
  {
   "cell_type": "code",
   "execution_count": 207,
   "metadata": {},
   "outputs": [
    {
     "data": {
      "text/html": [
       "<div>\n",
       "<style scoped>\n",
       "    .dataframe tbody tr th:only-of-type {\n",
       "        vertical-align: middle;\n",
       "    }\n",
       "\n",
       "    .dataframe tbody tr th {\n",
       "        vertical-align: top;\n",
       "    }\n",
       "\n",
       "    .dataframe thead th {\n",
       "        text-align: right;\n",
       "    }\n",
       "</style>\n",
       "<table border=\"1\" class=\"dataframe\">\n",
       "  <thead>\n",
       "    <tr style=\"text-align: right;\">\n",
       "      <th></th>\n",
       "      <th>open</th>\n",
       "      <th>high</th>\n",
       "      <th>low</th>\n",
       "      <th>close</th>\n",
       "      <th>volume</th>\n",
       "      <th>momentum</th>\n",
       "      <th>avg_price</th>\n",
       "      <th>ohlc_price</th>\n",
       "      <th>oc_diff</th>\n",
       "      <th>Currency</th>\n",
       "      <th>Description</th>\n",
       "      <th>Actual</th>\n",
       "      <th>Previous</th>\n",
       "    </tr>\n",
       "    <tr>\n",
       "      <th>timestamp</th>\n",
       "      <th></th>\n",
       "      <th></th>\n",
       "      <th></th>\n",
       "      <th></th>\n",
       "      <th></th>\n",
       "      <th></th>\n",
       "      <th></th>\n",
       "      <th></th>\n",
       "      <th></th>\n",
       "      <th></th>\n",
       "      <th></th>\n",
       "      <th></th>\n",
       "      <th></th>\n",
       "    </tr>\n",
       "  </thead>\n",
       "  <tbody>\n",
       "    <tr>\n",
       "      <th>2022-01-03 00:02:00</th>\n",
       "      <td>1.13674</td>\n",
       "      <td>1.13674</td>\n",
       "      <td>1.13674</td>\n",
       "      <td>1.13674</td>\n",
       "      <td>1.0</td>\n",
       "      <td>0.00000</td>\n",
       "      <td>1.136740</td>\n",
       "      <td>1.136740</td>\n",
       "      <td>0.00000</td>\n",
       "      <td>NaN</td>\n",
       "      <td>NaN</td>\n",
       "      <td>NaN</td>\n",
       "      <td>NaN</td>\n",
       "    </tr>\n",
       "    <tr>\n",
       "      <th>2022-01-03 00:03:00</th>\n",
       "      <td>1.13663</td>\n",
       "      <td>1.13674</td>\n",
       "      <td>1.13663</td>\n",
       "      <td>1.13674</td>\n",
       "      <td>5.0</td>\n",
       "      <td>-0.00055</td>\n",
       "      <td>1.136685</td>\n",
       "      <td>1.136685</td>\n",
       "      <td>-0.00011</td>\n",
       "      <td>NaN</td>\n",
       "      <td>NaN</td>\n",
       "      <td>NaN</td>\n",
       "      <td>NaN</td>\n",
       "    </tr>\n",
       "    <tr>\n",
       "      <th>2022-01-03 00:04:00</th>\n",
       "      <td>1.13663</td>\n",
       "      <td>1.13687</td>\n",
       "      <td>1.13663</td>\n",
       "      <td>1.13687</td>\n",
       "      <td>3.0</td>\n",
       "      <td>-0.00072</td>\n",
       "      <td>1.136750</td>\n",
       "      <td>1.136750</td>\n",
       "      <td>-0.00024</td>\n",
       "      <td>NaN</td>\n",
       "      <td>NaN</td>\n",
       "      <td>NaN</td>\n",
       "      <td>NaN</td>\n",
       "    </tr>\n",
       "    <tr>\n",
       "      <th>2022-01-03 00:05:00</th>\n",
       "      <td>1.13674</td>\n",
       "      <td>1.13687</td>\n",
       "      <td>1.13674</td>\n",
       "      <td>1.13674</td>\n",
       "      <td>3.0</td>\n",
       "      <td>0.00000</td>\n",
       "      <td>1.136805</td>\n",
       "      <td>1.136772</td>\n",
       "      <td>0.00000</td>\n",
       "      <td>NaN</td>\n",
       "      <td>NaN</td>\n",
       "      <td>NaN</td>\n",
       "      <td>NaN</td>\n",
       "    </tr>\n",
       "    <tr>\n",
       "      <th>2022-01-03 00:06:00</th>\n",
       "      <td>1.13684</td>\n",
       "      <td>1.13684</td>\n",
       "      <td>1.13644</td>\n",
       "      <td>1.13644</td>\n",
       "      <td>5.0</td>\n",
       "      <td>0.00200</td>\n",
       "      <td>1.136640</td>\n",
       "      <td>1.136640</td>\n",
       "      <td>0.00040</td>\n",
       "      <td>NaN</td>\n",
       "      <td>NaN</td>\n",
       "      <td>NaN</td>\n",
       "      <td>NaN</td>\n",
       "    </tr>\n",
       "  </tbody>\n",
       "</table>\n",
       "</div>"
      ],
      "text/plain": [
       "                        open     high      low    close  volume  momentum  \\\n",
       "timestamp                                                                   \n",
       "2022-01-03 00:02:00  1.13674  1.13674  1.13674  1.13674     1.0   0.00000   \n",
       "2022-01-03 00:03:00  1.13663  1.13674  1.13663  1.13674     5.0  -0.00055   \n",
       "2022-01-03 00:04:00  1.13663  1.13687  1.13663  1.13687     3.0  -0.00072   \n",
       "2022-01-03 00:05:00  1.13674  1.13687  1.13674  1.13674     3.0   0.00000   \n",
       "2022-01-03 00:06:00  1.13684  1.13684  1.13644  1.13644     5.0   0.00200   \n",
       "\n",
       "                     avg_price  ohlc_price  oc_diff Currency Description  \\\n",
       "timestamp                                                                  \n",
       "2022-01-03 00:02:00   1.136740    1.136740  0.00000      NaN         NaN   \n",
       "2022-01-03 00:03:00   1.136685    1.136685 -0.00011      NaN         NaN   \n",
       "2022-01-03 00:04:00   1.136750    1.136750 -0.00024      NaN         NaN   \n",
       "2022-01-03 00:05:00   1.136805    1.136772  0.00000      NaN         NaN   \n",
       "2022-01-03 00:06:00   1.136640    1.136640  0.00040      NaN         NaN   \n",
       "\n",
       "                    Actual Previous  \n",
       "timestamp                            \n",
       "2022-01-03 00:02:00    NaN      NaN  \n",
       "2022-01-03 00:03:00    NaN      NaN  \n",
       "2022-01-03 00:04:00    NaN      NaN  \n",
       "2022-01-03 00:05:00    NaN      NaN  \n",
       "2022-01-03 00:06:00    NaN      NaN  "
      ]
     },
     "execution_count": 207,
     "metadata": {},
     "output_type": "execute_result"
    }
   ],
   "source": [
    "df = df.astype(float)\n",
    "df_merged = df.join(df2,on='timestamp')\n",
    "df_merged.head()"
   ]
  },
  {
   "cell_type": "code",
   "execution_count": 209,
   "metadata": {},
   "outputs": [
    {
     "data": {
      "text/plain": [
       "USD    81\n",
       "EUR    76\n",
       "Name: Currency, dtype: int64"
      ]
     },
     "execution_count": 209,
     "metadata": {},
     "output_type": "execute_result"
    }
   ],
   "source": [
    "df_merged['Currency'].value_counts()"
   ]
  },
  {
   "cell_type": "code",
   "execution_count": 211,
   "metadata": {},
   "outputs": [
    {
     "data": {
      "text/html": [
       "<div>\n",
       "<style scoped>\n",
       "    .dataframe tbody tr th:only-of-type {\n",
       "        vertical-align: middle;\n",
       "    }\n",
       "\n",
       "    .dataframe tbody tr th {\n",
       "        vertical-align: top;\n",
       "    }\n",
       "\n",
       "    .dataframe thead th {\n",
       "        text-align: right;\n",
       "    }\n",
       "</style>\n",
       "<table border=\"1\" class=\"dataframe\">\n",
       "  <thead>\n",
       "    <tr style=\"text-align: right;\">\n",
       "      <th></th>\n",
       "      <th>open</th>\n",
       "      <th>high</th>\n",
       "      <th>low</th>\n",
       "      <th>close</th>\n",
       "      <th>volume</th>\n",
       "      <th>momentum</th>\n",
       "      <th>avg_price</th>\n",
       "      <th>ohlc_price</th>\n",
       "      <th>oc_diff</th>\n",
       "      <th>Currency</th>\n",
       "      <th>Description</th>\n",
       "      <th>Actual</th>\n",
       "      <th>Previous</th>\n",
       "      <th>pip_value_for_Rs.10000</th>\n",
       "    </tr>\n",
       "    <tr>\n",
       "      <th>timestamp</th>\n",
       "      <th></th>\n",
       "      <th></th>\n",
       "      <th></th>\n",
       "      <th></th>\n",
       "      <th></th>\n",
       "      <th></th>\n",
       "      <th></th>\n",
       "      <th></th>\n",
       "      <th></th>\n",
       "      <th></th>\n",
       "      <th></th>\n",
       "      <th></th>\n",
       "      <th></th>\n",
       "      <th></th>\n",
       "    </tr>\n",
       "  </thead>\n",
       "  <tbody>\n",
       "    <tr>\n",
       "      <th>2022-01-03 00:02:00</th>\n",
       "      <td>1.13674</td>\n",
       "      <td>1.13674</td>\n",
       "      <td>1.13674</td>\n",
       "      <td>1.13674</td>\n",
       "      <td>1.0</td>\n",
       "      <td>0.00000</td>\n",
       "      <td>1.136740</td>\n",
       "      <td>1.136740</td>\n",
       "      <td>0.00000</td>\n",
       "      <td>NaN</td>\n",
       "      <td>NaN</td>\n",
       "      <td>NaN</td>\n",
       "      <td>NaN</td>\n",
       "      <td>0.000000</td>\n",
       "    </tr>\n",
       "    <tr>\n",
       "      <th>2022-01-03 00:03:00</th>\n",
       "      <td>1.13663</td>\n",
       "      <td>1.13674</td>\n",
       "      <td>1.13663</td>\n",
       "      <td>1.13674</td>\n",
       "      <td>5.0</td>\n",
       "      <td>-0.00055</td>\n",
       "      <td>1.136685</td>\n",
       "      <td>1.136685</td>\n",
       "      <td>-0.00011</td>\n",
       "      <td>NaN</td>\n",
       "      <td>NaN</td>\n",
       "      <td>NaN</td>\n",
       "      <td>NaN</td>\n",
       "      <td>0.967680</td>\n",
       "    </tr>\n",
       "    <tr>\n",
       "      <th>2022-01-03 00:04:00</th>\n",
       "      <td>1.13663</td>\n",
       "      <td>1.13687</td>\n",
       "      <td>1.13663</td>\n",
       "      <td>1.13687</td>\n",
       "      <td>3.0</td>\n",
       "      <td>-0.00072</td>\n",
       "      <td>1.136750</td>\n",
       "      <td>1.136750</td>\n",
       "      <td>-0.00024</td>\n",
       "      <td>NaN</td>\n",
       "      <td>NaN</td>\n",
       "      <td>NaN</td>\n",
       "      <td>NaN</td>\n",
       "      <td>2.111059</td>\n",
       "    </tr>\n",
       "    <tr>\n",
       "      <th>2022-01-03 00:05:00</th>\n",
       "      <td>1.13674</td>\n",
       "      <td>1.13687</td>\n",
       "      <td>1.13674</td>\n",
       "      <td>1.13674</td>\n",
       "      <td>3.0</td>\n",
       "      <td>0.00000</td>\n",
       "      <td>1.136805</td>\n",
       "      <td>1.136772</td>\n",
       "      <td>0.00000</td>\n",
       "      <td>NaN</td>\n",
       "      <td>NaN</td>\n",
       "      <td>NaN</td>\n",
       "      <td>NaN</td>\n",
       "      <td>0.000000</td>\n",
       "    </tr>\n",
       "    <tr>\n",
       "      <th>2022-01-03 00:06:00</th>\n",
       "      <td>1.13684</td>\n",
       "      <td>1.13684</td>\n",
       "      <td>1.13644</td>\n",
       "      <td>1.13644</td>\n",
       "      <td>5.0</td>\n",
       "      <td>0.00200</td>\n",
       "      <td>1.136640</td>\n",
       "      <td>1.136640</td>\n",
       "      <td>0.00040</td>\n",
       "      <td>NaN</td>\n",
       "      <td>NaN</td>\n",
       "      <td>NaN</td>\n",
       "      <td>NaN</td>\n",
       "      <td>-3.519763</td>\n",
       "    </tr>\n",
       "  </tbody>\n",
       "</table>\n",
       "</div>"
      ],
      "text/plain": [
       "                        open     high      low    close  volume  momentum  \\\n",
       "timestamp                                                                   \n",
       "2022-01-03 00:02:00  1.13674  1.13674  1.13674  1.13674     1.0   0.00000   \n",
       "2022-01-03 00:03:00  1.13663  1.13674  1.13663  1.13674     5.0  -0.00055   \n",
       "2022-01-03 00:04:00  1.13663  1.13687  1.13663  1.13687     3.0  -0.00072   \n",
       "2022-01-03 00:05:00  1.13674  1.13687  1.13674  1.13674     3.0   0.00000   \n",
       "2022-01-03 00:06:00  1.13684  1.13684  1.13644  1.13644     5.0   0.00200   \n",
       "\n",
       "                     avg_price  ohlc_price  oc_diff Currency Description  \\\n",
       "timestamp                                                                  \n",
       "2022-01-03 00:02:00   1.136740    1.136740  0.00000      NaN         NaN   \n",
       "2022-01-03 00:03:00   1.136685    1.136685 -0.00011      NaN         NaN   \n",
       "2022-01-03 00:04:00   1.136750    1.136750 -0.00024      NaN         NaN   \n",
       "2022-01-03 00:05:00   1.136805    1.136772  0.00000      NaN         NaN   \n",
       "2022-01-03 00:06:00   1.136640    1.136640  0.00040      NaN         NaN   \n",
       "\n",
       "                    Actual Previous  pip_value_for_Rs.10000  \n",
       "timestamp                                                    \n",
       "2022-01-03 00:02:00    NaN      NaN                0.000000  \n",
       "2022-01-03 00:03:00    NaN      NaN                0.967680  \n",
       "2022-01-03 00:04:00    NaN      NaN                2.111059  \n",
       "2022-01-03 00:05:00    NaN      NaN                0.000000  \n",
       "2022-01-03 00:06:00    NaN      NaN               -3.519763  "
      ]
     },
     "execution_count": 211,
     "metadata": {},
     "output_type": "execute_result"
    }
   ],
   "source": [
    "df_merged['pip_value_for_Rs.10000'] = (df['close']-df['open'])*10000/df['close']\n",
    "df_merged.head()"
   ]
  },
  {
   "cell_type": "code",
   "execution_count": 212,
   "metadata": {},
   "outputs": [
    {
     "data": {
      "text/plain": [
       "<AxesSubplot:xlabel='timestamp'>"
      ]
     },
     "execution_count": 212,
     "metadata": {},
     "output_type": "execute_result"
    },
    {
     "data": {
      "image/png": "[encoded data removed]",
      "text/plain": [
       "<Figure size 432x288 with 1 Axes>"
      ]
     },
     "metadata": {
      "needs_background": "light"
     },
     "output_type": "display_data"
    }
   ],
   "source": [
    "df_merged['pip_value_for_Rs.10000'].plot()"
   ]
  },
  {
   "cell_type": "code",
   "execution_count": 213,
   "metadata": {},
   "outputs": [
    {
     "data": {
      "text/plain": [
       "<AxesSubplot:xlabel='timestamp'>"
      ]
     },
     "execution_count": 213,
     "metadata": {},
     "output_type": "execute_result"
    },
    {
     "data": {
      "image/png": "[encoded data removed]",
      "text/plain": [
       "<Figure size 432x288 with 1 Axes>"
      ]
     },
     "metadata": {
      "needs_background": "light"
     },
     "output_type": "display_data"
    }
   ],
   "source": [
    "df_merged[['close']].plot()"
   ]
  },
  {
   "cell_type": "code",
   "execution_count": 214,
   "metadata": {},
   "outputs": [],
   "source": [
    "# df_merged.to_csv(\"Resources/Trade.csv\")"
   ]
  },
  {
   "cell_type": "code",
   "execution_count": 216,
   "metadata": {},
   "outputs": [
    {
     "data": {
      "text/plain": [
       "30194"
      ]
     },
     "execution_count": 216,
     "metadata": {},
     "output_type": "execute_result"
    }
   ],
   "source": [
    "df_merged.shape[0]"
   ]
  },
  {
   "cell_type": "code",
   "execution_count": null,
   "metadata": {},
   "outputs": [],
   "source": [
    "# PIP change values are forecasted with very less accuracy i.e. Conclusion: use time series forecasting to forecast open/close \n",
    "# values and news prediction for getting impact of news on pip"
   ]
  },
  {
   "cell_type": "markdown",
   "metadata": {},
   "source": [
    "# "
   ]
  },
  {
   "cell_type": "markdown",
   "metadata": {},
   "source": [
    "# Regression for pip prediction on forex calendar data"
   ]
  },
  {
   "cell_type": "code",
   "execution_count": 150,
   "metadata": {},
   "outputs": [],
   "source": [
    "# Target = pip value\n",
    "# feature = currency,description,actual,previous\n",
    "# index = Datetime"
   ]
  },
  {
   "cell_type": "code",
   "execution_count": 209,
   "metadata": {},
   "outputs": [
    {
     "data": {
      "text/html": [
       "<div>\n",
       "<style scoped>\n",
       "    .dataframe tbody tr th:only-of-type {\n",
       "        vertical-align: middle;\n",
       "    }\n",
       "\n",
       "    .dataframe tbody tr th {\n",
       "        vertical-align: top;\n",
       "    }\n",
       "\n",
       "    .dataframe thead th {\n",
       "        text-align: right;\n",
       "    }\n",
       "</style>\n",
       "<table border=\"1\" class=\"dataframe\">\n",
       "  <thead>\n",
       "    <tr style=\"text-align: right;\">\n",
       "      <th></th>\n",
       "      <th>Currency</th>\n",
       "      <th>Description</th>\n",
       "      <th>Actual</th>\n",
       "      <th>Previous</th>\n",
       "      <th>pip_value_for_Rs.10000</th>\n",
       "    </tr>\n",
       "    <tr>\n",
       "      <th>Datetime</th>\n",
       "      <th></th>\n",
       "      <th></th>\n",
       "      <th></th>\n",
       "      <th></th>\n",
       "      <th></th>\n",
       "    </tr>\n",
       "  </thead>\n",
       "  <tbody>\n",
       "    <tr>\n",
       "      <th>2022-01-03 02:32:00</th>\n",
       "      <td>NaN</td>\n",
       "      <td>NaN</td>\n",
       "      <td>NaN</td>\n",
       "      <td>NaN</td>\n",
       "      <td>0.000000</td>\n",
       "    </tr>\n",
       "    <tr>\n",
       "      <th>2022-01-03 02:33:00</th>\n",
       "      <td>NaN</td>\n",
       "      <td>NaN</td>\n",
       "      <td>NaN</td>\n",
       "      <td>NaN</td>\n",
       "      <td>0.967680</td>\n",
       "    </tr>\n",
       "    <tr>\n",
       "      <th>2022-01-03 02:34:00</th>\n",
       "      <td>NaN</td>\n",
       "      <td>NaN</td>\n",
       "      <td>NaN</td>\n",
       "      <td>NaN</td>\n",
       "      <td>2.111059</td>\n",
       "    </tr>\n",
       "    <tr>\n",
       "      <th>2022-01-03 02:35:00</th>\n",
       "      <td>NaN</td>\n",
       "      <td>NaN</td>\n",
       "      <td>NaN</td>\n",
       "      <td>NaN</td>\n",
       "      <td>0.000000</td>\n",
       "    </tr>\n",
       "    <tr>\n",
       "      <th>2022-01-03 02:36:00</th>\n",
       "      <td>NaN</td>\n",
       "      <td>NaN</td>\n",
       "      <td>NaN</td>\n",
       "      <td>NaN</td>\n",
       "      <td>-3.519763</td>\n",
       "    </tr>\n",
       "  </tbody>\n",
       "</table>\n",
       "</div>"
      ],
      "text/plain": [
       "                    Currency Description Actual Previous  \\\n",
       "Datetime                                                   \n",
       "2022-01-03 02:32:00      NaN         NaN    NaN      NaN   \n",
       "2022-01-03 02:33:00      NaN         NaN    NaN      NaN   \n",
       "2022-01-03 02:34:00      NaN         NaN    NaN      NaN   \n",
       "2022-01-03 02:35:00      NaN         NaN    NaN      NaN   \n",
       "2022-01-03 02:36:00      NaN         NaN    NaN      NaN   \n",
       "\n",
       "                     pip_value_for_Rs.10000  \n",
       "Datetime                                     \n",
       "2022-01-03 02:32:00                0.000000  \n",
       "2022-01-03 02:33:00                0.967680  \n",
       "2022-01-03 02:34:00                2.111059  \n",
       "2022-01-03 02:35:00                0.000000  \n",
       "2022-01-03 02:36:00               -3.519763  "
      ]
     },
     "execution_count": 209,
     "metadata": {},
     "output_type": "execute_result"
    }
   ],
   "source": [
    "forex = df_merged[['Currency','Description','Actual','Previous','pip_value_for_Rs.10000']]\n",
    "forex.head()"
   ]
  },
  {
   "cell_type": "code",
   "execution_count": 210,
   "metadata": {},
   "outputs": [
    {
     "name": "stderr",
     "output_type": "stream",
     "text": [
      "<ipython-input-210-d7023e5edf8e>:1: SettingWithCopyWarning: \n",
      "A value is trying to be set on a copy of a slice from a DataFrame.\n",
      "Try using .loc[row_indexer,col_indexer] = value instead\n",
      "\n",
      "See the caveats in the documentation: https://pandas.pydata.org/pandas-docs/stable/user_guide/indexing.html#returning-a-view-versus-a-copy\n",
      "  forex['Currency'] = forex['Currency'].apply(lambda x: -1 if x==\"EUR\" else 1)\n"
     ]
    },
    {
     "data": {
      "text/html": [
       "<div>\n",
       "<style scoped>\n",
       "    .dataframe tbody tr th:only-of-type {\n",
       "        vertical-align: middle;\n",
       "    }\n",
       "\n",
       "    .dataframe tbody tr th {\n",
       "        vertical-align: top;\n",
       "    }\n",
       "\n",
       "    .dataframe thead th {\n",
       "        text-align: right;\n",
       "    }\n",
       "</style>\n",
       "<table border=\"1\" class=\"dataframe\">\n",
       "  <thead>\n",
       "    <tr style=\"text-align: right;\">\n",
       "      <th></th>\n",
       "      <th>Currency</th>\n",
       "      <th>Description</th>\n",
       "      <th>Actual</th>\n",
       "      <th>Previous</th>\n",
       "      <th>pip_value_for_Rs.10000</th>\n",
       "    </tr>\n",
       "    <tr>\n",
       "      <th>Datetime</th>\n",
       "      <th></th>\n",
       "      <th></th>\n",
       "      <th></th>\n",
       "      <th></th>\n",
       "      <th></th>\n",
       "    </tr>\n",
       "  </thead>\n",
       "  <tbody>\n",
       "    <tr>\n",
       "      <th>2022-01-03 02:32:00</th>\n",
       "      <td>1</td>\n",
       "      <td>NaN</td>\n",
       "      <td>NaN</td>\n",
       "      <td>NaN</td>\n",
       "      <td>0.000000</td>\n",
       "    </tr>\n",
       "    <tr>\n",
       "      <th>2022-01-03 02:33:00</th>\n",
       "      <td>1</td>\n",
       "      <td>NaN</td>\n",
       "      <td>NaN</td>\n",
       "      <td>NaN</td>\n",
       "      <td>0.967680</td>\n",
       "    </tr>\n",
       "    <tr>\n",
       "      <th>2022-01-03 02:34:00</th>\n",
       "      <td>1</td>\n",
       "      <td>NaN</td>\n",
       "      <td>NaN</td>\n",
       "      <td>NaN</td>\n",
       "      <td>2.111059</td>\n",
       "    </tr>\n",
       "    <tr>\n",
       "      <th>2022-01-03 02:35:00</th>\n",
       "      <td>1</td>\n",
       "      <td>NaN</td>\n",
       "      <td>NaN</td>\n",
       "      <td>NaN</td>\n",
       "      <td>0.000000</td>\n",
       "    </tr>\n",
       "    <tr>\n",
       "      <th>2022-01-03 02:36:00</th>\n",
       "      <td>1</td>\n",
       "      <td>NaN</td>\n",
       "      <td>NaN</td>\n",
       "      <td>NaN</td>\n",
       "      <td>-3.519763</td>\n",
       "    </tr>\n",
       "  </tbody>\n",
       "</table>\n",
       "</div>"
      ],
      "text/plain": [
       "                     Currency Description Actual Previous  \\\n",
       "Datetime                                                    \n",
       "2022-01-03 02:32:00         1         NaN    NaN      NaN   \n",
       "2022-01-03 02:33:00         1         NaN    NaN      NaN   \n",
       "2022-01-03 02:34:00         1         NaN    NaN      NaN   \n",
       "2022-01-03 02:35:00         1         NaN    NaN      NaN   \n",
       "2022-01-03 02:36:00         1         NaN    NaN      NaN   \n",
       "\n",
       "                     pip_value_for_Rs.10000  \n",
       "Datetime                                     \n",
       "2022-01-03 02:32:00                0.000000  \n",
       "2022-01-03 02:33:00                0.967680  \n",
       "2022-01-03 02:34:00                2.111059  \n",
       "2022-01-03 02:35:00                0.000000  \n",
       "2022-01-03 02:36:00               -3.519763  "
      ]
     },
     "execution_count": 210,
     "metadata": {},
     "output_type": "execute_result"
    }
   ],
   "source": [
    "forex['Currency'] = forex['Currency'].apply(lambda x: -1 if x==\"EUR\" else 1)\n",
    "forex.head()"
   ]
  },
  {
   "cell_type": "code",
   "execution_count": 211,
   "metadata": {},
   "outputs": [
    {
     "data": {
      "text/html": [
       "<div>\n",
       "<style scoped>\n",
       "    .dataframe tbody tr th:only-of-type {\n",
       "        vertical-align: middle;\n",
       "    }\n",
       "\n",
       "    .dataframe tbody tr th {\n",
       "        vertical-align: top;\n",
       "    }\n",
       "\n",
       "    .dataframe thead th {\n",
       "        text-align: right;\n",
       "    }\n",
       "</style>\n",
       "<table border=\"1\" class=\"dataframe\">\n",
       "  <thead>\n",
       "    <tr style=\"text-align: right;\">\n",
       "      <th></th>\n",
       "      <th>Currency</th>\n",
       "      <th>Description</th>\n",
       "      <th>Actual</th>\n",
       "      <th>Previous</th>\n",
       "      <th>pip_value_for_Rs.10000</th>\n",
       "    </tr>\n",
       "    <tr>\n",
       "      <th>Datetime</th>\n",
       "      <th></th>\n",
       "      <th></th>\n",
       "      <th></th>\n",
       "      <th></th>\n",
       "      <th></th>\n",
       "    </tr>\n",
       "  </thead>\n",
       "  <tbody>\n",
       "    <tr>\n",
       "      <th>2022-01-03 13:45:00</th>\n",
       "      <td>-1</td>\n",
       "      <td>Spanish Manufacturing PMI</td>\n",
       "      <td>56.2</td>\n",
       "      <td>57.1</td>\n",
       "      <td>-0.352258</td>\n",
       "    </tr>\n",
       "    <tr>\n",
       "      <th>2022-01-03 14:15:00</th>\n",
       "      <td>-1</td>\n",
       "      <td>Italian Manufacturing PMI</td>\n",
       "      <td>62</td>\n",
       "      <td>62.8</td>\n",
       "      <td>-1.233861</td>\n",
       "    </tr>\n",
       "    <tr>\n",
       "      <th>2022-01-03 14:20:00</th>\n",
       "      <td>-1</td>\n",
       "      <td>French Final Manufacturing PMI</td>\n",
       "      <td>55.6</td>\n",
       "      <td>54.9</td>\n",
       "      <td>1.849862</td>\n",
       "    </tr>\n",
       "    <tr>\n",
       "      <th>2022-01-03 14:25:00</th>\n",
       "      <td>-1</td>\n",
       "      <td>German Final Manufacturing PMI</td>\n",
       "      <td>57.4</td>\n",
       "      <td>57.9</td>\n",
       "      <td>-2.202313</td>\n",
       "    </tr>\n",
       "    <tr>\n",
       "      <th>2022-01-03 14:30:00</th>\n",
       "      <td>-1</td>\n",
       "      <td>Final Manufacturing PMI</td>\n",
       "      <td>58</td>\n",
       "      <td>58</td>\n",
       "      <td>2.994302</td>\n",
       "    </tr>\n",
       "  </tbody>\n",
       "</table>\n",
       "</div>"
      ],
      "text/plain": [
       "                     Currency                     Description Actual Previous  \\\n",
       "Datetime                                                                        \n",
       "2022-01-03 13:45:00        -1       Spanish Manufacturing PMI   56.2     57.1   \n",
       "2022-01-03 14:15:00        -1       Italian Manufacturing PMI     62     62.8   \n",
       "2022-01-03 14:20:00        -1  French Final Manufacturing PMI   55.6     54.9   \n",
       "2022-01-03 14:25:00        -1  German Final Manufacturing PMI   57.4     57.9   \n",
       "2022-01-03 14:30:00        -1         Final Manufacturing PMI     58       58   \n",
       "\n",
       "                     pip_value_for_Rs.10000  \n",
       "Datetime                                     \n",
       "2022-01-03 13:45:00               -0.352258  \n",
       "2022-01-03 14:15:00               -1.233861  \n",
       "2022-01-03 14:20:00                1.849862  \n",
       "2022-01-03 14:25:00               -2.202313  \n",
       "2022-01-03 14:30:00                2.994302  "
      ]
     },
     "execution_count": 211,
     "metadata": {},
     "output_type": "execute_result"
    }
   ],
   "source": [
    "forex = forex.dropna(0)\n",
    "# forex[['Actual','Previous']] = forex[['Actual','Previous']].astype(float)\n",
    "forex.head()"
   ]
  },
  {
   "cell_type": "code",
   "execution_count": 217,
   "metadata": {},
   "outputs": [
    {
     "data": {
      "text/plain": [
       "Unemployment Claims                   4\n",
       "Natural Gas Storage                   4\n",
       "Crude Oil Inventories                 4\n",
       "Final Services PMI                    2\n",
       "Final Manufacturing PMI               2\n",
       "                                     ..\n",
       "ZEW Economic Sentiment                1\n",
       "Federal Funds Rate                    1\n",
       "German Retail Sales m/m               1\n",
       "Housing Starts                        1\n",
       "Revised UoM Inflation Expectations    1\n",
       "Name: Description, Length: 123, dtype: int64"
      ]
     },
     "execution_count": 217,
     "metadata": {},
     "output_type": "execute_result"
    }
   ],
   "source": [
    "forex.Description.value_counts()\n",
    "# insufficient data"
   ]
  },
  {
   "cell_type": "code",
   "execution_count": 218,
   "metadata": {},
   "outputs": [
    {
     "data": {
      "text/plain": [
       "<AxesSubplot:xlabel='Description'>"
      ]
     },
     "execution_count": 218,
     "metadata": {},
     "output_type": "execute_result"
    },
    {
     "data": {
      "image/png": "[encoded data removed]",
      "text/plain": [
       "<Figure size 432x288 with 1 Axes>"
      ]
     },
     "metadata": {
      "needs_background": "light"
     },
     "output_type": "display_data"
    }
   ],
   "source": [
    "forex[forex['Description']=='Unemployment Claims'].plot.bar(x='Description',y='pip_value_for_Rs.10000')"
   ]
  },
  {
   "cell_type": "code",
   "execution_count": 195,
   "metadata": {},
   "outputs": [
    {
     "data": {
      "text/html": [
       "<div>\n",
       "<style scoped>\n",
       "    .dataframe tbody tr th:only-of-type {\n",
       "        vertical-align: middle;\n",
       "    }\n",
       "\n",
       "    .dataframe tbody tr th {\n",
       "        vertical-align: top;\n",
       "    }\n",
       "\n",
       "    .dataframe thead th {\n",
       "        text-align: right;\n",
       "    }\n",
       "</style>\n",
       "<table border=\"1\" class=\"dataframe\">\n",
       "  <thead>\n",
       "    <tr style=\"text-align: right;\">\n",
       "      <th></th>\n",
       "      <th>Currency</th>\n",
       "      <th>Description</th>\n",
       "      <th>Actual</th>\n",
       "      <th>Previous</th>\n",
       "      <th>pip_value_for_Rs.10000</th>\n",
       "      <th>ADP Non-Farm Employment Change</th>\n",
       "      <th>Advance GDP Price Index q/q</th>\n",
       "      <th>Advance GDP q/q</th>\n",
       "      <th>Average Hourly Earnings m/m</th>\n",
       "      <th>Belgian NBB Business Climate</th>\n",
       "      <th>...</th>\n",
       "      <th>Spanish Flash GDP q/q</th>\n",
       "      <th>Spanish Manufacturing PMI</th>\n",
       "      <th>Spanish Services PMI</th>\n",
       "      <th>Spanish Unemployment Change</th>\n",
       "      <th>Spanish Unemployment Rate</th>\n",
       "      <th>TIC Long-Term Purchases</th>\n",
       "      <th>Trade Balance</th>\n",
       "      <th>Unemployment Claims</th>\n",
       "      <th>Unemployment Rate</th>\n",
       "      <th>ZEW Economic Sentiment</th>\n",
       "    </tr>\n",
       "    <tr>\n",
       "      <th>Datetime</th>\n",
       "      <th></th>\n",
       "      <th></th>\n",
       "      <th></th>\n",
       "      <th></th>\n",
       "      <th></th>\n",
       "      <th></th>\n",
       "      <th></th>\n",
       "      <th></th>\n",
       "      <th></th>\n",
       "      <th></th>\n",
       "      <th></th>\n",
       "      <th></th>\n",
       "      <th></th>\n",
       "      <th></th>\n",
       "      <th></th>\n",
       "      <th></th>\n",
       "      <th></th>\n",
       "      <th></th>\n",
       "      <th></th>\n",
       "      <th></th>\n",
       "      <th></th>\n",
       "    </tr>\n",
       "  </thead>\n",
       "  <tbody>\n",
       "    <tr>\n",
       "      <th>2022-01-03 13:45:00</th>\n",
       "      <td>-1</td>\n",
       "      <td>Spanish Manufacturing PMI</td>\n",
       "      <td>56.2</td>\n",
       "      <td>57.1</td>\n",
       "      <td>-0.352258</td>\n",
       "      <td>0</td>\n",
       "      <td>0</td>\n",
       "      <td>0</td>\n",
       "      <td>0</td>\n",
       "      <td>0</td>\n",
       "      <td>...</td>\n",
       "      <td>0</td>\n",
       "      <td>1</td>\n",
       "      <td>0</td>\n",
       "      <td>0</td>\n",
       "      <td>0</td>\n",
       "      <td>0</td>\n",
       "      <td>0</td>\n",
       "      <td>0</td>\n",
       "      <td>0</td>\n",
       "      <td>0</td>\n",
       "    </tr>\n",
       "    <tr>\n",
       "      <th>2022-01-03 14:15:00</th>\n",
       "      <td>-1</td>\n",
       "      <td>Italian Manufacturing PMI</td>\n",
       "      <td>62</td>\n",
       "      <td>62.8</td>\n",
       "      <td>-1.233861</td>\n",
       "      <td>0</td>\n",
       "      <td>0</td>\n",
       "      <td>0</td>\n",
       "      <td>0</td>\n",
       "      <td>0</td>\n",
       "      <td>...</td>\n",
       "      <td>0</td>\n",
       "      <td>0</td>\n",
       "      <td>0</td>\n",
       "      <td>0</td>\n",
       "      <td>0</td>\n",
       "      <td>0</td>\n",
       "      <td>0</td>\n",
       "      <td>0</td>\n",
       "      <td>0</td>\n",
       "      <td>0</td>\n",
       "    </tr>\n",
       "    <tr>\n",
       "      <th>2022-01-03 14:20:00</th>\n",
       "      <td>-1</td>\n",
       "      <td>French Final Manufacturing PMI</td>\n",
       "      <td>55.6</td>\n",
       "      <td>54.9</td>\n",
       "      <td>1.849862</td>\n",
       "      <td>0</td>\n",
       "      <td>0</td>\n",
       "      <td>0</td>\n",
       "      <td>0</td>\n",
       "      <td>0</td>\n",
       "      <td>...</td>\n",
       "      <td>0</td>\n",
       "      <td>0</td>\n",
       "      <td>0</td>\n",
       "      <td>0</td>\n",
       "      <td>0</td>\n",
       "      <td>0</td>\n",
       "      <td>0</td>\n",
       "      <td>0</td>\n",
       "      <td>0</td>\n",
       "      <td>0</td>\n",
       "    </tr>\n",
       "    <tr>\n",
       "      <th>2022-01-03 14:25:00</th>\n",
       "      <td>-1</td>\n",
       "      <td>German Final Manufacturing PMI</td>\n",
       "      <td>57.4</td>\n",
       "      <td>57.9</td>\n",
       "      <td>-2.202313</td>\n",
       "      <td>0</td>\n",
       "      <td>0</td>\n",
       "      <td>0</td>\n",
       "      <td>0</td>\n",
       "      <td>0</td>\n",
       "      <td>...</td>\n",
       "      <td>0</td>\n",
       "      <td>0</td>\n",
       "      <td>0</td>\n",
       "      <td>0</td>\n",
       "      <td>0</td>\n",
       "      <td>0</td>\n",
       "      <td>0</td>\n",
       "      <td>0</td>\n",
       "      <td>0</td>\n",
       "      <td>0</td>\n",
       "    </tr>\n",
       "    <tr>\n",
       "      <th>2022-01-03 14:30:00</th>\n",
       "      <td>-1</td>\n",
       "      <td>Final Manufacturing PMI</td>\n",
       "      <td>58</td>\n",
       "      <td>58</td>\n",
       "      <td>2.994302</td>\n",
       "      <td>0</td>\n",
       "      <td>0</td>\n",
       "      <td>0</td>\n",
       "      <td>0</td>\n",
       "      <td>0</td>\n",
       "      <td>...</td>\n",
       "      <td>0</td>\n",
       "      <td>0</td>\n",
       "      <td>0</td>\n",
       "      <td>0</td>\n",
       "      <td>0</td>\n",
       "      <td>0</td>\n",
       "      <td>0</td>\n",
       "      <td>0</td>\n",
       "      <td>0</td>\n",
       "      <td>0</td>\n",
       "    </tr>\n",
       "  </tbody>\n",
       "</table>\n",
       "<p>5 rows × 128 columns</p>\n",
       "</div>"
      ],
      "text/plain": [
       "                     Currency                     Description Actual Previous  \\\n",
       "Datetime                                                                        \n",
       "2022-01-03 13:45:00        -1       Spanish Manufacturing PMI   56.2     57.1   \n",
       "2022-01-03 14:15:00        -1       Italian Manufacturing PMI     62     62.8   \n",
       "2022-01-03 14:20:00        -1  French Final Manufacturing PMI   55.6     54.9   \n",
       "2022-01-03 14:25:00        -1  German Final Manufacturing PMI   57.4     57.9   \n",
       "2022-01-03 14:30:00        -1         Final Manufacturing PMI     58       58   \n",
       "\n",
       "                     pip_value_for_Rs.10000  ADP Non-Farm Employment Change  \\\n",
       "Datetime                                                                      \n",
       "2022-01-03 13:45:00               -0.352258                               0   \n",
       "2022-01-03 14:15:00               -1.233861                               0   \n",
       "2022-01-03 14:20:00                1.849862                               0   \n",
       "2022-01-03 14:25:00               -2.202313                               0   \n",
       "2022-01-03 14:30:00                2.994302                               0   \n",
       "\n",
       "                     Advance GDP Price Index q/q  Advance GDP q/q  \\\n",
       "Datetime                                                            \n",
       "2022-01-03 13:45:00                            0                0   \n",
       "2022-01-03 14:15:00                            0                0   \n",
       "2022-01-03 14:20:00                            0                0   \n",
       "2022-01-03 14:25:00                            0                0   \n",
       "2022-01-03 14:30:00                            0                0   \n",
       "\n",
       "                     Average Hourly Earnings m/m  \\\n",
       "Datetime                                           \n",
       "2022-01-03 13:45:00                            0   \n",
       "2022-01-03 14:15:00                            0   \n",
       "2022-01-03 14:20:00                            0   \n",
       "2022-01-03 14:25:00                            0   \n",
       "2022-01-03 14:30:00                            0   \n",
       "\n",
       "                     Belgian NBB Business Climate  ...  Spanish Flash GDP q/q  \\\n",
       "Datetime                                           ...                          \n",
       "2022-01-03 13:45:00                             0  ...                      0   \n",
       "2022-01-03 14:15:00                             0  ...                      0   \n",
       "2022-01-03 14:20:00                             0  ...                      0   \n",
       "2022-01-03 14:25:00                             0  ...                      0   \n",
       "2022-01-03 14:30:00                             0  ...                      0   \n",
       "\n",
       "                     Spanish Manufacturing PMI  Spanish Services PMI  \\\n",
       "Datetime                                                               \n",
       "2022-01-03 13:45:00                          1                     0   \n",
       "2022-01-03 14:15:00                          0                     0   \n",
       "2022-01-03 14:20:00                          0                     0   \n",
       "2022-01-03 14:25:00                          0                     0   \n",
       "2022-01-03 14:30:00                          0                     0   \n",
       "\n",
       "                     Spanish Unemployment Change  Spanish Unemployment Rate  \\\n",
       "Datetime                                                                      \n",
       "2022-01-03 13:45:00                            0                          0   \n",
       "2022-01-03 14:15:00                            0                          0   \n",
       "2022-01-03 14:20:00                            0                          0   \n",
       "2022-01-03 14:25:00                            0                          0   \n",
       "2022-01-03 14:30:00                            0                          0   \n",
       "\n",
       "                     TIC Long-Term Purchases  Trade Balance  \\\n",
       "Datetime                                                      \n",
       "2022-01-03 13:45:00                        0              0   \n",
       "2022-01-03 14:15:00                        0              0   \n",
       "2022-01-03 14:20:00                        0              0   \n",
       "2022-01-03 14:25:00                        0              0   \n",
       "2022-01-03 14:30:00                        0              0   \n",
       "\n",
       "                     Unemployment Claims  Unemployment Rate  \\\n",
       "Datetime                                                      \n",
       "2022-01-03 13:45:00                    0                  0   \n",
       "2022-01-03 14:15:00                    0                  0   \n",
       "2022-01-03 14:20:00                    0                  0   \n",
       "2022-01-03 14:25:00                    0                  0   \n",
       "2022-01-03 14:30:00                    0                  0   \n",
       "\n",
       "                     ZEW Economic Sentiment  \n",
       "Datetime                                     \n",
       "2022-01-03 13:45:00                       0  \n",
       "2022-01-03 14:15:00                       0  \n",
       "2022-01-03 14:20:00                       0  \n",
       "2022-01-03 14:25:00                       0  \n",
       "2022-01-03 14:30:00                       0  \n",
       "\n",
       "[5 rows x 128 columns]"
      ]
     },
     "execution_count": 195,
     "metadata": {},
     "output_type": "execute_result"
    }
   ],
   "source": [
    "forex = forex.join(pd.get_dummies(forex['Description']))\n",
    "forex.head()"
   ]
  },
  {
   "cell_type": "code",
   "execution_count": 196,
   "metadata": {},
   "outputs": [
    {
     "data": {
      "text/html": [
       "<div>\n",
       "<style scoped>\n",
       "    .dataframe tbody tr th:only-of-type {\n",
       "        vertical-align: middle;\n",
       "    }\n",
       "\n",
       "    .dataframe tbody tr th {\n",
       "        vertical-align: top;\n",
       "    }\n",
       "\n",
       "    .dataframe thead th {\n",
       "        text-align: right;\n",
       "    }\n",
       "</style>\n",
       "<table border=\"1\" class=\"dataframe\">\n",
       "  <thead>\n",
       "    <tr style=\"text-align: right;\">\n",
       "      <th></th>\n",
       "      <th>Currency</th>\n",
       "      <th>Actual</th>\n",
       "      <th>Previous</th>\n",
       "      <th>ADP Non-Farm Employment Change</th>\n",
       "      <th>Advance GDP Price Index q/q</th>\n",
       "      <th>Advance GDP q/q</th>\n",
       "      <th>Average Hourly Earnings m/m</th>\n",
       "      <th>Belgian NBB Business Climate</th>\n",
       "      <th>Building Permits</th>\n",
       "      <th>Business Inventories m/m</th>\n",
       "      <th>...</th>\n",
       "      <th>Spanish Flash GDP q/q</th>\n",
       "      <th>Spanish Manufacturing PMI</th>\n",
       "      <th>Spanish Services PMI</th>\n",
       "      <th>Spanish Unemployment Change</th>\n",
       "      <th>Spanish Unemployment Rate</th>\n",
       "      <th>TIC Long-Term Purchases</th>\n",
       "      <th>Trade Balance</th>\n",
       "      <th>Unemployment Claims</th>\n",
       "      <th>Unemployment Rate</th>\n",
       "      <th>ZEW Economic Sentiment</th>\n",
       "    </tr>\n",
       "    <tr>\n",
       "      <th>Datetime</th>\n",
       "      <th></th>\n",
       "      <th></th>\n",
       "      <th></th>\n",
       "      <th></th>\n",
       "      <th></th>\n",
       "      <th></th>\n",
       "      <th></th>\n",
       "      <th></th>\n",
       "      <th></th>\n",
       "      <th></th>\n",
       "      <th></th>\n",
       "      <th></th>\n",
       "      <th></th>\n",
       "      <th></th>\n",
       "      <th></th>\n",
       "      <th></th>\n",
       "      <th></th>\n",
       "      <th></th>\n",
       "      <th></th>\n",
       "      <th></th>\n",
       "      <th></th>\n",
       "    </tr>\n",
       "  </thead>\n",
       "  <tbody>\n",
       "    <tr>\n",
       "      <th>2022-01-03 13:45:00</th>\n",
       "      <td>-1</td>\n",
       "      <td>56.2</td>\n",
       "      <td>57.1</td>\n",
       "      <td>0</td>\n",
       "      <td>0</td>\n",
       "      <td>0</td>\n",
       "      <td>0</td>\n",
       "      <td>0</td>\n",
       "      <td>0</td>\n",
       "      <td>0</td>\n",
       "      <td>...</td>\n",
       "      <td>0</td>\n",
       "      <td>1</td>\n",
       "      <td>0</td>\n",
       "      <td>0</td>\n",
       "      <td>0</td>\n",
       "      <td>0</td>\n",
       "      <td>0</td>\n",
       "      <td>0</td>\n",
       "      <td>0</td>\n",
       "      <td>0</td>\n",
       "    </tr>\n",
       "    <tr>\n",
       "      <th>2022-01-03 14:15:00</th>\n",
       "      <td>-1</td>\n",
       "      <td>62</td>\n",
       "      <td>62.8</td>\n",
       "      <td>0</td>\n",
       "      <td>0</td>\n",
       "      <td>0</td>\n",
       "      <td>0</td>\n",
       "      <td>0</td>\n",
       "      <td>0</td>\n",
       "      <td>0</td>\n",
       "      <td>...</td>\n",
       "      <td>0</td>\n",
       "      <td>0</td>\n",
       "      <td>0</td>\n",
       "      <td>0</td>\n",
       "      <td>0</td>\n",
       "      <td>0</td>\n",
       "      <td>0</td>\n",
       "      <td>0</td>\n",
       "      <td>0</td>\n",
       "      <td>0</td>\n",
       "    </tr>\n",
       "    <tr>\n",
       "      <th>2022-01-03 14:20:00</th>\n",
       "      <td>-1</td>\n",
       "      <td>55.6</td>\n",
       "      <td>54.9</td>\n",
       "      <td>0</td>\n",
       "      <td>0</td>\n",
       "      <td>0</td>\n",
       "      <td>0</td>\n",
       "      <td>0</td>\n",
       "      <td>0</td>\n",
       "      <td>0</td>\n",
       "      <td>...</td>\n",
       "      <td>0</td>\n",
       "      <td>0</td>\n",
       "      <td>0</td>\n",
       "      <td>0</td>\n",
       "      <td>0</td>\n",
       "      <td>0</td>\n",
       "      <td>0</td>\n",
       "      <td>0</td>\n",
       "      <td>0</td>\n",
       "      <td>0</td>\n",
       "    </tr>\n",
       "    <tr>\n",
       "      <th>2022-01-03 14:25:00</th>\n",
       "      <td>-1</td>\n",
       "      <td>57.4</td>\n",
       "      <td>57.9</td>\n",
       "      <td>0</td>\n",
       "      <td>0</td>\n",
       "      <td>0</td>\n",
       "      <td>0</td>\n",
       "      <td>0</td>\n",
       "      <td>0</td>\n",
       "      <td>0</td>\n",
       "      <td>...</td>\n",
       "      <td>0</td>\n",
       "      <td>0</td>\n",
       "      <td>0</td>\n",
       "      <td>0</td>\n",
       "      <td>0</td>\n",
       "      <td>0</td>\n",
       "      <td>0</td>\n",
       "      <td>0</td>\n",
       "      <td>0</td>\n",
       "      <td>0</td>\n",
       "    </tr>\n",
       "    <tr>\n",
       "      <th>2022-01-03 14:30:00</th>\n",
       "      <td>-1</td>\n",
       "      <td>58</td>\n",
       "      <td>58</td>\n",
       "      <td>0</td>\n",
       "      <td>0</td>\n",
       "      <td>0</td>\n",
       "      <td>0</td>\n",
       "      <td>0</td>\n",
       "      <td>0</td>\n",
       "      <td>0</td>\n",
       "      <td>...</td>\n",
       "      <td>0</td>\n",
       "      <td>0</td>\n",
       "      <td>0</td>\n",
       "      <td>0</td>\n",
       "      <td>0</td>\n",
       "      <td>0</td>\n",
       "      <td>0</td>\n",
       "      <td>0</td>\n",
       "      <td>0</td>\n",
       "      <td>0</td>\n",
       "    </tr>\n",
       "  </tbody>\n",
       "</table>\n",
       "<p>5 rows × 126 columns</p>\n",
       "</div>"
      ],
      "text/plain": [
       "                     Currency Actual Previous  ADP Non-Farm Employment Change  \\\n",
       "Datetime                                                                        \n",
       "2022-01-03 13:45:00        -1   56.2     57.1                               0   \n",
       "2022-01-03 14:15:00        -1     62     62.8                               0   \n",
       "2022-01-03 14:20:00        -1   55.6     54.9                               0   \n",
       "2022-01-03 14:25:00        -1   57.4     57.9                               0   \n",
       "2022-01-03 14:30:00        -1     58       58                               0   \n",
       "\n",
       "                     Advance GDP Price Index q/q  Advance GDP q/q  \\\n",
       "Datetime                                                            \n",
       "2022-01-03 13:45:00                            0                0   \n",
       "2022-01-03 14:15:00                            0                0   \n",
       "2022-01-03 14:20:00                            0                0   \n",
       "2022-01-03 14:25:00                            0                0   \n",
       "2022-01-03 14:30:00                            0                0   \n",
       "\n",
       "                     Average Hourly Earnings m/m  \\\n",
       "Datetime                                           \n",
       "2022-01-03 13:45:00                            0   \n",
       "2022-01-03 14:15:00                            0   \n",
       "2022-01-03 14:20:00                            0   \n",
       "2022-01-03 14:25:00                            0   \n",
       "2022-01-03 14:30:00                            0   \n",
       "\n",
       "                     Belgian NBB Business Climate  Building Permits  \\\n",
       "Datetime                                                              \n",
       "2022-01-03 13:45:00                             0                 0   \n",
       "2022-01-03 14:15:00                             0                 0   \n",
       "2022-01-03 14:20:00                             0                 0   \n",
       "2022-01-03 14:25:00                             0                 0   \n",
       "2022-01-03 14:30:00                             0                 0   \n",
       "\n",
       "                     Business Inventories m/m  ...  Spanish Flash GDP q/q  \\\n",
       "Datetime                                       ...                          \n",
       "2022-01-03 13:45:00                         0  ...                      0   \n",
       "2022-01-03 14:15:00                         0  ...                      0   \n",
       "2022-01-03 14:20:00                         0  ...                      0   \n",
       "2022-01-03 14:25:00                         0  ...                      0   \n",
       "2022-01-03 14:30:00                         0  ...                      0   \n",
       "\n",
       "                     Spanish Manufacturing PMI  Spanish Services PMI  \\\n",
       "Datetime                                                               \n",
       "2022-01-03 13:45:00                          1                     0   \n",
       "2022-01-03 14:15:00                          0                     0   \n",
       "2022-01-03 14:20:00                          0                     0   \n",
       "2022-01-03 14:25:00                          0                     0   \n",
       "2022-01-03 14:30:00                          0                     0   \n",
       "\n",
       "                     Spanish Unemployment Change  Spanish Unemployment Rate  \\\n",
       "Datetime                                                                      \n",
       "2022-01-03 13:45:00                            0                          0   \n",
       "2022-01-03 14:15:00                            0                          0   \n",
       "2022-01-03 14:20:00                            0                          0   \n",
       "2022-01-03 14:25:00                            0                          0   \n",
       "2022-01-03 14:30:00                            0                          0   \n",
       "\n",
       "                     TIC Long-Term Purchases  Trade Balance  \\\n",
       "Datetime                                                      \n",
       "2022-01-03 13:45:00                        0              0   \n",
       "2022-01-03 14:15:00                        0              0   \n",
       "2022-01-03 14:20:00                        0              0   \n",
       "2022-01-03 14:25:00                        0              0   \n",
       "2022-01-03 14:30:00                        0              0   \n",
       "\n",
       "                     Unemployment Claims  Unemployment Rate  \\\n",
       "Datetime                                                      \n",
       "2022-01-03 13:45:00                    0                  0   \n",
       "2022-01-03 14:15:00                    0                  0   \n",
       "2022-01-03 14:20:00                    0                  0   \n",
       "2022-01-03 14:25:00                    0                  0   \n",
       "2022-01-03 14:30:00                    0                  0   \n",
       "\n",
       "                     ZEW Economic Sentiment  \n",
       "Datetime                                     \n",
       "2022-01-03 13:45:00                       0  \n",
       "2022-01-03 14:15:00                       0  \n",
       "2022-01-03 14:20:00                       0  \n",
       "2022-01-03 14:25:00                       0  \n",
       "2022-01-03 14:30:00                       0  \n",
       "\n",
       "[5 rows x 126 columns]"
      ]
     },
     "execution_count": 196,
     "metadata": {},
     "output_type": "execute_result"
    }
   ],
   "source": [
    "Y = forex['pip_value_for_Rs.10000']\n",
    "X = forex.drop(['Description','pip_value_for_Rs.10000'],1)\n",
    "X.head()"
   ]
  },
  {
   "cell_type": "code",
   "execution_count": null,
   "metadata": {},
   "outputs": [],
   "source": [
    "from sklearn.model_selection import train_test_split\n",
    "X_train,Y_train,X_test,Y_test = train_test_split(X,Y,test_size=0.3)"
   ]
  },
  {
   "cell_type": "code",
   "execution_count": 198,
   "metadata": {},
   "outputs": [],
   "source": [
    "from sklearn.linear_model import LinearRegression\n",
    "lr = LinearRegression()"
   ]
  },
  {
   "cell_type": "code",
   "execution_count": null,
   "metadata": {},
   "outputs": [],
   "source": [
    "lr.fit(X_train,Y_train)"
   ]
  },
  {
   "cell_type": "code",
   "execution_count": null,
   "metadata": {},
   "outputs": [],
   "source": [
    "lr.score(X_test,Y_test)"
   ]
  },
  {
   "cell_type": "code",
   "execution_count": null,
   "metadata": {},
   "outputs": [],
   "source": [
    "lr.predict(X_test)"
   ]
  },
  {
   "cell_type": "markdown",
   "metadata": {},
   "source": [
    "# NLP sentiment analysis pip prediction to get news impact"
   ]
  },
  {
   "cell_type": "code",
   "execution_count": null,
   "metadata": {},
   "outputs": [],
   "source": [
    "df3= pd.read_csv(\"train.csv\")\n",
    "df3.head()"
   ]
  },
  {
   "cell_type": "code",
   "execution_count": null,
   "metadata": {},
   "outputs": [],
   "source": [
    "target = df[\"target\"]\n",
    "data = df.drop(\"target\",1)\n",
    "data.head()"
   ]
  },
  {
   "cell_type": "code",
   "execution_count": null,
   "metadata": {},
   "outputs": [],
   "source": [
    "target.isna().sum()"
   ]
  },
  {
   "cell_type": "code",
   "execution_count": null,
   "metadata": {},
   "outputs": [],
   "source": [
    "data.nunique()"
   ]
  },
  {
   "cell_type": "code",
   "execution_count": null,
   "metadata": {},
   "outputs": [],
   "source": [
    "data[\"keyword\"].value_counts()"
   ]
  },
  {
   "cell_type": "code",
   "execution_count": null,
   "metadata": {},
   "outputs": [],
   "source": [
    "data[\"location\"].value_counts()"
   ]
  },
  {
   "cell_type": "code",
   "execution_count": null,
   "metadata": {},
   "outputs": [],
   "source": [
    "tweet = data[\"text\"]"
   ]
  },
  {
   "cell_type": "markdown",
   "metadata": {},
   "source": [
    "# NLP Preprocessing"
   ]
  },
  {
   "cell_type": "code",
   "execution_count": null,
   "metadata": {},
   "outputs": [],
   "source": [
    "import nltk\n",
    "from nltk.tokenize import RegexpTokenizer\n",
    "import spacy\n",
    "nlp = spacy.load(\"en_core_web_sm\")\n",
    "from nltk.corpus import stopwords\n",
    "nltk.download('stopwords')\n",
    "from functools import reduce\n",
    "from wordcloud import WordCloud\n",
    "from sklearn.feature_extraction.text import CountVectorizer\n",
    "from sklearn.feature_extraction.text import TfidfVectorizer\n",
    "nltk.download(\"vader_lexicon\")\n",
    "from nltk.sentiment.vader import SentimentIntensityAnalyzer"
   ]
  },
  {
   "cell_type": "code",
   "execution_count": null,
   "metadata": {},
   "outputs": [],
   "source": [
    "reviews = data[\"reviews.text\"]\n",
    "reviews.head()"
   ]
  },
  {
   "cell_type": "code",
   "execution_count": null,
   "metadata": {},
   "outputs": [],
   "source": [
    "reviews = reviews.apply(lambda x: x.lower())"
   ]
  },
  {
   "cell_type": "code",
   "execution_count": null,
   "metadata": {},
   "outputs": [],
   "source": [
    "# /w+ include [a-zA-Z0-9_]\n",
    "tokenizer = RegexpTokenizer(\"\\w+\")\n",
    "reviews = reviews.apply(lambda x: tokenizer.tokenize(x))\n",
    "reviews.head()"
   ]
  },
  {
   "cell_type": "code",
   "execution_count": null,
   "metadata": {},
   "outputs": [],
   "source": [
    "reviews = reviews.apply(lambda x: [token.lemma_ for token in nlp(\" \".join(x))])\n",
    "reviews.head()"
   ]
  },
  {
   "cell_type": "code",
   "execution_count": null,
   "metadata": {},
   "outputs": [],
   "source": [
    "Stopwords = stopwords.words(\"english\")\n",
    "reviews = reviews.apply(lambda x: [word for word in x if word not in Stopwords and len(word)>2])\n",
    "reviews.head()"
   ]
  },
  {
   "cell_type": "code",
   "execution_count": null,
   "metadata": {},
   "outputs": [],
   "source": [
    "product_reviews = pd.DataFrame()\n",
    "product_reviews[\"reviews\"] = reviews\n",
    "product_reviews[\"product\"] = data[\"name\"]\n",
    "product_reviews.head()"
   ]
  },
  {
   "cell_type": "code",
   "execution_count": null,
   "metadata": {},
   "outputs": [],
   "source": [
    "product_reviews.groupby([\"product\"],as_index=False).agg({\"reviews\":sum})\n",
    "product_reviews.head()"
   ]
  },
  {
   "cell_type": "markdown",
   "metadata": {},
   "source": [
    "# Wordcloud"
   ]
  },
  {
   "cell_type": "code",
   "execution_count": null,
   "metadata": {},
   "outputs": [],
   "source": [
    "all_tweets = reduce(lambda x,y: x+y, tweets)\n",
    "wc = WordCloud().generate(\" \".join(all_tweets))\n",
    "plt.imshow(wc)"
   ]
  },
  {
   "cell_type": "markdown",
   "metadata": {},
   "source": [
    "# Bow Vectorization"
   ]
  },
  {
   "cell_type": "code",
   "execution_count": null,
   "metadata": {},
   "outputs": [],
   "source": [
    "bow_vect = CountVectorizer()\n",
    "bow_matrix = bow_vect.fit_transform(tweets.apply(lambda x: \" \".join(x)))"
   ]
  },
  {
   "cell_type": "code",
   "execution_count": null,
   "metadata": {},
   "outputs": [],
   "source": [
    "bow_matrix.toarray()"
   ]
  },
  {
   "cell_type": "code",
   "execution_count": null,
   "metadata": {},
   "outputs": [],
   "source": [
    "doc_vector = pd.DataFrame(bow_matrix.toarray())"
   ]
  },
  {
   "cell_type": "markdown",
   "metadata": {},
   "source": [
    "# TF-IDF Vectorization"
   ]
  },
  {
   "cell_type": "code",
   "execution_count": null,
   "metadata": {},
   "outputs": [],
   "source": [
    "tfidf = TfidfVectorizer()\n",
    "tfidf_matrix = tfidf.fit_transform(reviews.apply(lambda x: \" \".join(x)))"
   ]
  },
  {
   "cell_type": "code",
   "execution_count": null,
   "metadata": {},
   "outputs": [],
   "source": [
    "tfidf_scores = pd.DataFrame(tfidf_matrix.toarray(), columns=tfidf.get_feature_names())\n",
    "tfidf_scores.head()"
   ]
  },
  {
   "cell_type": "markdown",
   "metadata": {},
   "source": [
    "# Sentiment Analysis"
   ]
  },
  {
   "cell_type": "code",
   "execution_count": null,
   "metadata": {},
   "outputs": [],
   "source": [
    "df3[\"reviews\"]  = [\" \".join(x) for x in reviews]\n",
    "df3[\"ratings\"] = data[\"reviews.rating\"]"
   ]
  },
  {
   "cell_type": "code",
   "execution_count": null,
   "metadata": {},
   "outputs": [],
   "source": [
    "sia = SentimentIntensityAnalyzer()\n",
    "\n",
    "df[\"score\"] = df[\"reviews\"].apply(lambda x: sia.polarity_scores(x))\n",
    "df.head()"
   ]
  },
  {
   "cell_type": "code",
   "execution_count": null,
   "metadata": {},
   "outputs": [],
   "source": [
    "df['label'] = df['score'].apply(lambda x: \"neu\" if abs(x['compound'])<0.2 else (\"neg\" if x['compound']<0 else \"pos\"))\n",
    "\n",
    "# label or score between 1 to 5 to compare with ratings\n",
    "df['rate'] = df['score'].apply(lambda x: round((x['compound']+1)*4/2+1))\n",
    "df.head()"
   ]
  },
  {
   "cell_type": "markdown",
   "metadata": {},
   "source": [
    "# Test processing"
   ]
  },
  {
   "cell_type": "code",
   "execution_count": null,
   "metadata": {},
   "outputs": [],
   "source": [
    "df_test= pd.read_csv(\"test.csv\")\n",
    "df_test.head()"
   ]
  },
  {
   "cell_type": "code",
   "execution_count": null,
   "metadata": {},
   "outputs": [],
   "source": [
    "test_target = df[\"target\"]\n",
    "test_tweet = df[\"text\"]\n",
    "test_tweet.head()"
   ]
  },
  {
   "cell_type": "markdown",
   "metadata": {},
   "source": [
    "# NLP Test Preprocessing"
   ]
  },
  {
   "cell_type": "code",
   "execution_count": null,
   "metadata": {},
   "outputs": [],
   "source": [
    "tweets = test_tweet.apply(lambda x: x.lower())\n",
    "tweets.head()"
   ]
  },
  {
   "cell_type": "code",
   "execution_count": null,
   "metadata": {},
   "outputs": [],
   "source": [
    "tokenizer = RegexpTokenizer(\"\\w+\")\n",
    "tweets = tweets.apply(lambda x: tokenizer.tokenize(x))\n",
    "tweets.head()"
   ]
  },
  {
   "cell_type": "code",
   "execution_count": null,
   "metadata": {},
   "outputs": [],
   "source": [
    "# lemmatization\n",
    "tweets = tweets.apply(lambda x: [token.lemma_ for token in nlp(\" \".join(x))])\n",
    "tweets.head()"
   ]
  },
  {
   "cell_type": "code",
   "execution_count": null,
   "metadata": {},
   "outputs": [],
   "source": [
    "Stopwords = stopwords.words(\"english\")\n",
    "tweets = tweets.apply(lambda x: [word for word in x if word not in Stopwords and len(word)>2])\n",
    "tweets.head()"
   ]
  },
  {
   "cell_type": "markdown",
   "metadata": {},
   "source": [
    "# Bow Vectorization"
   ]
  },
  {
   "cell_type": "code",
   "execution_count": null,
   "metadata": {},
   "outputs": [],
   "source": [
    "bow_vect = CountVectorizer()\n",
    "bow_matrix = bow_vect.fit_transform(tweets.apply(lambda x: \" \".join(x)))"
   ]
  },
  {
   "cell_type": "code",
   "execution_count": null,
   "metadata": {},
   "outputs": [],
   "source": [
    "doc_vector = pd.DataFrame(bow_matrix.toarray())"
   ]
  },
  {
   "cell_type": "code",
   "execution_count": null,
   "metadata": {},
   "outputs": [],
   "source": [
    "pred = model.predict(doc_vector)\n",
    "pred"
   ]
  },
  {
   "cell_type": "code",
   "execution_count": null,
   "metadata": {},
   "outputs": [],
   "source": [
    "pred1 = pd.DataFrame()\n",
    "pred1[\"id\"] = df_test[\"id\"]\n",
    "pred1[\"target\"] = pred"
   ]
  },
  {
   "cell_type": "code",
   "execution_count": null,
   "metadata": {},
   "outputs": [],
   "source": [
    "pred1.to_csv(\"submission.csv\", index=False)"
   ]
  },
  {
   "cell_type": "code",
   "execution_count": null,
   "metadata": {},
   "outputs": [],
   "source": []
  }
 ],
 "metadata": {
  "kernelspec": {
   "display_name": "Python 3",
   "language": "python",
   "name": "python3"
  },
  "language_info": {
   "codemirror_mode": {
    "name": "ipython",
    "version": 3
   },
   "file_extension": ".py",
   "mimetype": "text/x-python",
   "name": "python",
   "nbconvert_exporter": "python",
   "pygments_lexer": "ipython3",
   "version": "3.8.5"
  }
 },
 "nbformat": 4,
 "nbformat_minor": 4
}
