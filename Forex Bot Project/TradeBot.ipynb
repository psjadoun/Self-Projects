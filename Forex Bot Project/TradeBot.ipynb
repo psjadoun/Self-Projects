{
 "cells": [
  {
   "cell_type": "code",
   "execution_count": 87,
   "metadata": {},
   "outputs": [],
   "source": [
    "import pandas as pd\n",
    "import numpy as np"
   ]
  },
  {
   "cell_type": "code",
   "execution_count": 88,
   "metadata": {},
   "outputs": [
    {
     "data": {
      "text/html": [
       "<div>\n",
       "<style scoped>\n",
       "    .dataframe tbody tr th:only-of-type {\n",
       "        vertical-align: middle;\n",
       "    }\n",
       "\n",
       "    .dataframe tbody tr th {\n",
       "        vertical-align: top;\n",
       "    }\n",
       "\n",
       "    .dataframe thead th {\n",
       "        text-align: right;\n",
       "    }\n",
       "</style>\n",
       "<table border=\"1\" class=\"dataframe\">\n",
       "  <thead>\n",
       "    <tr style=\"text-align: right;\">\n",
       "      <th></th>\n",
       "      <th>Date</th>\n",
       "      <th>Time</th>\n",
       "      <th>Open</th>\n",
       "      <th>High</th>\n",
       "      <th>Low</th>\n",
       "      <th>Close</th>\n",
       "      <th>M</th>\n",
       "    </tr>\n",
       "  </thead>\n",
       "  <tbody>\n",
       "    <tr>\n",
       "      <th>0</th>\n",
       "      <td>2022.01.03</td>\n",
       "      <td>0:02</td>\n",
       "      <td>1.13674</td>\n",
       "      <td>1.13674</td>\n",
       "      <td>1.13674</td>\n",
       "      <td>1.13674</td>\n",
       "      <td>1</td>\n",
       "    </tr>\n",
       "    <tr>\n",
       "      <th>1</th>\n",
       "      <td>2022.01.03</td>\n",
       "      <td>0:03</td>\n",
       "      <td>1.13663</td>\n",
       "      <td>1.13674</td>\n",
       "      <td>1.13663</td>\n",
       "      <td>1.13674</td>\n",
       "      <td>5</td>\n",
       "    </tr>\n",
       "    <tr>\n",
       "      <th>2</th>\n",
       "      <td>2022.01.03</td>\n",
       "      <td>0:04</td>\n",
       "      <td>1.13663</td>\n",
       "      <td>1.13687</td>\n",
       "      <td>1.13663</td>\n",
       "      <td>1.13687</td>\n",
       "      <td>3</td>\n",
       "    </tr>\n",
       "    <tr>\n",
       "      <th>3</th>\n",
       "      <td>2022.01.03</td>\n",
       "      <td>0:05</td>\n",
       "      <td>1.13674</td>\n",
       "      <td>1.13687</td>\n",
       "      <td>1.13674</td>\n",
       "      <td>1.13674</td>\n",
       "      <td>3</td>\n",
       "    </tr>\n",
       "    <tr>\n",
       "      <th>4</th>\n",
       "      <td>2022.01.03</td>\n",
       "      <td>0:06</td>\n",
       "      <td>1.13684</td>\n",
       "      <td>1.13684</td>\n",
       "      <td>1.13644</td>\n",
       "      <td>1.13644</td>\n",
       "      <td>5</td>\n",
       "    </tr>\n",
       "  </tbody>\n",
       "</table>\n",
       "</div>"
      ],
      "text/plain": [
       "         Date  Time     Open     High      Low    Close  M\n",
       "0  2022.01.03  0:02  1.13674  1.13674  1.13674  1.13674  1\n",
       "1  2022.01.03  0:03  1.13663  1.13674  1.13663  1.13674  5\n",
       "2  2022.01.03  0:04  1.13663  1.13687  1.13663  1.13687  3\n",
       "3  2022.01.03  0:05  1.13674  1.13687  1.13674  1.13674  3\n",
       "4  2022.01.03  0:06  1.13684  1.13684  1.13644  1.13644  5"
      ]
     },
     "execution_count": 88,
     "metadata": {},
     "output_type": "execute_result"
    }
   ],
   "source": [
    "df = pd.read_csv(\"Resources/EURUSD_2022_01.csv\")\n",
    "df.head()"
   ]
  },
  {
   "cell_type": "code",
   "execution_count": 89,
   "metadata": {},
   "outputs": [
    {
     "data": {
      "text/html": [
       "<div>\n",
       "<style scoped>\n",
       "    .dataframe tbody tr th:only-of-type {\n",
       "        vertical-align: middle;\n",
       "    }\n",
       "\n",
       "    .dataframe tbody tr th {\n",
       "        vertical-align: top;\n",
       "    }\n",
       "\n",
       "    .dataframe thead th {\n",
       "        text-align: right;\n",
       "    }\n",
       "</style>\n",
       "<table border=\"1\" class=\"dataframe\">\n",
       "  <thead>\n",
       "    <tr style=\"text-align: right;\">\n",
       "      <th></th>\n",
       "      <th>Date</th>\n",
       "      <th>Time</th>\n",
       "      <th>Currency</th>\n",
       "      <th>Description</th>\n",
       "      <th>Actual</th>\n",
       "      <th>Forecast</th>\n",
       "      <th>Previous</th>\n",
       "    </tr>\n",
       "  </thead>\n",
       "  <tbody>\n",
       "    <tr>\n",
       "      <th>0</th>\n",
       "      <td>2021.07.19</td>\n",
       "      <td>04:00</td>\n",
       "      <td>NZD</td>\n",
       "      <td>BusinessNZ Services Index</td>\n",
       "      <td>58.6</td>\n",
       "      <td>NaN</td>\n",
       "      <td>56.3</td>\n",
       "    </tr>\n",
       "    <tr>\n",
       "      <th>1</th>\n",
       "      <td>2021.07.19</td>\n",
       "      <td>04:31</td>\n",
       "      <td>GBP</td>\n",
       "      <td>Rightmove HPI m/m</td>\n",
       "      <td>0.007</td>\n",
       "      <td>NaN</td>\n",
       "      <td>0.008</td>\n",
       "    </tr>\n",
       "    <tr>\n",
       "      <th>2</th>\n",
       "      <td>2021.07.19</td>\n",
       "      <td>15:30</td>\n",
       "      <td>EUR</td>\n",
       "      <td>German Buba Monthly Report</td>\n",
       "      <td>NaN</td>\n",
       "      <td>NaN</td>\n",
       "      <td>NaN</td>\n",
       "    </tr>\n",
       "    <tr>\n",
       "      <th>3</th>\n",
       "      <td>2021.07.19</td>\n",
       "      <td>15:30</td>\n",
       "      <td>GBP</td>\n",
       "      <td>MPC Member Haskel Speaks</td>\n",
       "      <td>NaN</td>\n",
       "      <td>NaN</td>\n",
       "      <td>NaN</td>\n",
       "    </tr>\n",
       "    <tr>\n",
       "      <th>4</th>\n",
       "      <td>2021.07.19</td>\n",
       "      <td>19:30</td>\n",
       "      <td>USD</td>\n",
       "      <td>NAHB Housing Market Index</td>\n",
       "      <td>80</td>\n",
       "      <td>82</td>\n",
       "      <td>81</td>\n",
       "    </tr>\n",
       "  </tbody>\n",
       "</table>\n",
       "</div>"
      ],
      "text/plain": [
       "         Date   Time Currency                 Description Actual Forecast  \\\n",
       "0  2021.07.19  04:00      NZD   BusinessNZ Services Index   58.6      NaN   \n",
       "1  2021.07.19  04:31      GBP           Rightmove HPI m/m  0.007      NaN   \n",
       "2  2021.07.19  15:30      EUR  German Buba Monthly Report    NaN      NaN   \n",
       "3  2021.07.19  15:30      GBP    MPC Member Haskel Speaks    NaN      NaN   \n",
       "4  2021.07.19  19:30      USD   NAHB Housing Market Index     80       82   \n",
       "\n",
       "  Previous  \n",
       "0     56.3  \n",
       "1    0.008  \n",
       "2      NaN  \n",
       "3      NaN  \n",
       "4       81  "
      ]
     },
     "execution_count": 89,
     "metadata": {},
     "output_type": "execute_result"
    }
   ],
   "source": [
    "df2 = pd.read_csv(\"Resources/Replaced_data.csv\")\n",
    "df2.head()"
   ]
  },
  {
   "cell_type": "code",
   "execution_count": 90,
   "metadata": {},
   "outputs": [
    {
     "data": {
      "text/html": [
       "<div>\n",
       "<style scoped>\n",
       "    .dataframe tbody tr th:only-of-type {\n",
       "        vertical-align: middle;\n",
       "    }\n",
       "\n",
       "    .dataframe tbody tr th {\n",
       "        vertical-align: top;\n",
       "    }\n",
       "\n",
       "    .dataframe thead th {\n",
       "        text-align: right;\n",
       "    }\n",
       "</style>\n",
       "<table border=\"1\" class=\"dataframe\">\n",
       "  <thead>\n",
       "    <tr style=\"text-align: right;\">\n",
       "      <th></th>\n",
       "      <th>Date</th>\n",
       "      <th>Time</th>\n",
       "      <th>Currency</th>\n",
       "      <th>Description</th>\n",
       "      <th>Actual</th>\n",
       "      <th>Forecast</th>\n",
       "      <th>Previous</th>\n",
       "      <th>Datetime</th>\n",
       "    </tr>\n",
       "  </thead>\n",
       "  <tbody>\n",
       "    <tr>\n",
       "      <th>0</th>\n",
       "      <td>2021.07.19</td>\n",
       "      <td>04:00</td>\n",
       "      <td>NZD</td>\n",
       "      <td>BusinessNZ Services Index</td>\n",
       "      <td>58.6</td>\n",
       "      <td>NaN</td>\n",
       "      <td>56.3</td>\n",
       "      <td>NaN</td>\n",
       "    </tr>\n",
       "    <tr>\n",
       "      <th>1</th>\n",
       "      <td>2021.07.19</td>\n",
       "      <td>04:31</td>\n",
       "      <td>GBP</td>\n",
       "      <td>Rightmove HPI m/m</td>\n",
       "      <td>0.007</td>\n",
       "      <td>NaN</td>\n",
       "      <td>0.008</td>\n",
       "      <td>NaN</td>\n",
       "    </tr>\n",
       "    <tr>\n",
       "      <th>2</th>\n",
       "      <td>2021.07.19</td>\n",
       "      <td>15:30</td>\n",
       "      <td>EUR</td>\n",
       "      <td>German Buba Monthly Report</td>\n",
       "      <td>NaN</td>\n",
       "      <td>NaN</td>\n",
       "      <td>NaN</td>\n",
       "      <td>NaN</td>\n",
       "    </tr>\n",
       "    <tr>\n",
       "      <th>3</th>\n",
       "      <td>2021.07.19</td>\n",
       "      <td>15:30</td>\n",
       "      <td>GBP</td>\n",
       "      <td>MPC Member Haskel Speaks</td>\n",
       "      <td>NaN</td>\n",
       "      <td>NaN</td>\n",
       "      <td>NaN</td>\n",
       "      <td>NaN</td>\n",
       "    </tr>\n",
       "    <tr>\n",
       "      <th>4</th>\n",
       "      <td>2021.07.19</td>\n",
       "      <td>19:30</td>\n",
       "      <td>USD</td>\n",
       "      <td>NAHB Housing Market Index</td>\n",
       "      <td>80</td>\n",
       "      <td>82</td>\n",
       "      <td>81</td>\n",
       "      <td>NaN</td>\n",
       "    </tr>\n",
       "  </tbody>\n",
       "</table>\n",
       "</div>"
      ],
      "text/plain": [
       "         Date   Time Currency                 Description Actual Forecast  \\\n",
       "0  2021.07.19  04:00      NZD   BusinessNZ Services Index   58.6      NaN   \n",
       "1  2021.07.19  04:31      GBP           Rightmove HPI m/m  0.007      NaN   \n",
       "2  2021.07.19  15:30      EUR  German Buba Monthly Report    NaN      NaN   \n",
       "3  2021.07.19  15:30      GBP    MPC Member Haskel Speaks    NaN      NaN   \n",
       "4  2021.07.19  19:30      USD   NAHB Housing Market Index     80       82   \n",
       "\n",
       "  Previous Datetime  \n",
       "0     56.3      NaN  \n",
       "1    0.008      NaN  \n",
       "2      NaN      NaN  \n",
       "3      NaN      NaN  \n",
       "4       81      NaN  "
      ]
     },
     "execution_count": 90,
     "metadata": {},
     "output_type": "execute_result"
    }
   ],
   "source": [
    "df2['Datetime'] = df2[['Date','Time']].apply(lambda x: str(x[0]) + \"_\" + str(x[1]))\n",
    "df2.head()"
   ]
  },
  {
   "cell_type": "code",
   "execution_count": 91,
   "metadata": {},
   "outputs": [
    {
     "data": {
      "text/html": [
       "<div>\n",
       "<style scoped>\n",
       "    .dataframe tbody tr th:only-of-type {\n",
       "        vertical-align: middle;\n",
       "    }\n",
       "\n",
       "    .dataframe tbody tr th {\n",
       "        vertical-align: top;\n",
       "    }\n",
       "\n",
       "    .dataframe thead th {\n",
       "        text-align: right;\n",
       "    }\n",
       "</style>\n",
       "<table border=\"1\" class=\"dataframe\">\n",
       "  <thead>\n",
       "    <tr style=\"text-align: right;\">\n",
       "      <th></th>\n",
       "      <th>Date</th>\n",
       "      <th>Time</th>\n",
       "      <th>Currency</th>\n",
       "      <th>Description</th>\n",
       "      <th>Actual</th>\n",
       "      <th>Forecast</th>\n",
       "      <th>Previous</th>\n",
       "      <th>Datetime</th>\n",
       "    </tr>\n",
       "  </thead>\n",
       "  <tbody>\n",
       "    <tr>\n",
       "      <th>2</th>\n",
       "      <td>2021.07.19</td>\n",
       "      <td>15:30</td>\n",
       "      <td>EUR</td>\n",
       "      <td>German Buba Monthly Report</td>\n",
       "      <td>NaN</td>\n",
       "      <td>NaN</td>\n",
       "      <td>NaN</td>\n",
       "      <td>NaN</td>\n",
       "    </tr>\n",
       "    <tr>\n",
       "      <th>4</th>\n",
       "      <td>2021.07.19</td>\n",
       "      <td>19:30</td>\n",
       "      <td>USD</td>\n",
       "      <td>NAHB Housing Market Index</td>\n",
       "      <td>80</td>\n",
       "      <td>82</td>\n",
       "      <td>81</td>\n",
       "      <td>NaN</td>\n",
       "    </tr>\n",
       "    <tr>\n",
       "      <th>5</th>\n",
       "      <td>2021.07.19</td>\n",
       "      <td>21:00</td>\n",
       "      <td>USD</td>\n",
       "      <td>President Biden Speaks</td>\n",
       "      <td>NaN</td>\n",
       "      <td>NaN</td>\n",
       "      <td>NaN</td>\n",
       "      <td>NaN</td>\n",
       "    </tr>\n",
       "    <tr>\n",
       "      <th>9</th>\n",
       "      <td>2021.07.20</td>\n",
       "      <td>11:30</td>\n",
       "      <td>EUR</td>\n",
       "      <td>German PPI m/m</td>\n",
       "      <td>0.013</td>\n",
       "      <td>0.013</td>\n",
       "      <td>0.015</td>\n",
       "      <td>NaN</td>\n",
       "    </tr>\n",
       "    <tr>\n",
       "      <th>10</th>\n",
       "      <td>2021.07.20</td>\n",
       "      <td>13:30</td>\n",
       "      <td>EUR</td>\n",
       "      <td>Current Account</td>\n",
       "      <td>11.7B</td>\n",
       "      <td>24.3B</td>\n",
       "      <td>22.1B</td>\n",
       "      <td>NaN</td>\n",
       "    </tr>\n",
       "  </tbody>\n",
       "</table>\n",
       "</div>"
      ],
      "text/plain": [
       "          Date   Time Currency                 Description Actual Forecast  \\\n",
       "2   2021.07.19  15:30      EUR  German Buba Monthly Report    NaN      NaN   \n",
       "4   2021.07.19  19:30      USD   NAHB Housing Market Index     80       82   \n",
       "5   2021.07.19  21:00      USD      President Biden Speaks    NaN      NaN   \n",
       "9   2021.07.20  11:30      EUR              German PPI m/m  0.013    0.013   \n",
       "10  2021.07.20  13:30      EUR             Current Account  11.7B    24.3B   \n",
       "\n",
       "   Previous Datetime  \n",
       "2       NaN      NaN  \n",
       "4        81      NaN  \n",
       "5       NaN      NaN  \n",
       "9     0.015      NaN  \n",
       "10    22.1B      NaN  "
      ]
     },
     "execution_count": 91,
     "metadata": {},
     "output_type": "execute_result"
    }
   ],
   "source": [
    "df2 = df2[df2[\"Currency\"].isin(['EUR','USD'])]\n",
    "df2.head()"
   ]
  },
  {
   "cell_type": "code",
   "execution_count": 92,
   "metadata": {},
   "outputs": [],
   "source": [
    "df[\"Datetime\"] = df['Date'] + \"_\" +df['Time']\n",
    "df2[\"Datetime\"] = df2['Date']+\"_\" +df2['Time']\n",
    "df[\"Datetime\"] = pd.to_datetime(df['Datetime'], format='%Y.%m.%d_%H:%M')\n",
    "df.index = df[\"Datetime\"] +  pd.to_timedelta(2.5, unit='h')\n",
    "df2.index = pd.to_datetime(df2['Datetime'], format='%Y.%m.%d_%H:%M')"
   ]
  },
  {
   "cell_type": "code",
   "execution_count": 93,
   "metadata": {},
   "outputs": [
    {
     "data": {
      "text/html": [
       "<div>\n",
       "<style scoped>\n",
       "    .dataframe tbody tr th:only-of-type {\n",
       "        vertical-align: middle;\n",
       "    }\n",
       "\n",
       "    .dataframe tbody tr th {\n",
       "        vertical-align: top;\n",
       "    }\n",
       "\n",
       "    .dataframe thead th {\n",
       "        text-align: right;\n",
       "    }\n",
       "</style>\n",
       "<table border=\"1\" class=\"dataframe\">\n",
       "  <thead>\n",
       "    <tr style=\"text-align: right;\">\n",
       "      <th></th>\n",
       "      <th>Open</th>\n",
       "      <th>High</th>\n",
       "      <th>Low</th>\n",
       "      <th>Close</th>\n",
       "    </tr>\n",
       "    <tr>\n",
       "      <th>Datetime</th>\n",
       "      <th></th>\n",
       "      <th></th>\n",
       "      <th></th>\n",
       "      <th></th>\n",
       "    </tr>\n",
       "  </thead>\n",
       "  <tbody>\n",
       "    <tr>\n",
       "      <th>2022-01-03 02:32:00</th>\n",
       "      <td>1.13674</td>\n",
       "      <td>1.13674</td>\n",
       "      <td>1.13674</td>\n",
       "      <td>1.13674</td>\n",
       "    </tr>\n",
       "    <tr>\n",
       "      <th>2022-01-03 02:33:00</th>\n",
       "      <td>1.13663</td>\n",
       "      <td>1.13674</td>\n",
       "      <td>1.13663</td>\n",
       "      <td>1.13674</td>\n",
       "    </tr>\n",
       "    <tr>\n",
       "      <th>2022-01-03 02:34:00</th>\n",
       "      <td>1.13663</td>\n",
       "      <td>1.13687</td>\n",
       "      <td>1.13663</td>\n",
       "      <td>1.13687</td>\n",
       "    </tr>\n",
       "    <tr>\n",
       "      <th>2022-01-03 02:35:00</th>\n",
       "      <td>1.13674</td>\n",
       "      <td>1.13687</td>\n",
       "      <td>1.13674</td>\n",
       "      <td>1.13674</td>\n",
       "    </tr>\n",
       "    <tr>\n",
       "      <th>2022-01-03 02:36:00</th>\n",
       "      <td>1.13684</td>\n",
       "      <td>1.13684</td>\n",
       "      <td>1.13644</td>\n",
       "      <td>1.13644</td>\n",
       "    </tr>\n",
       "  </tbody>\n",
       "</table>\n",
       "</div>"
      ],
      "text/plain": [
       "                        Open     High      Low    Close\n",
       "Datetime                                               \n",
       "2022-01-03 02:32:00  1.13674  1.13674  1.13674  1.13674\n",
       "2022-01-03 02:33:00  1.13663  1.13674  1.13663  1.13674\n",
       "2022-01-03 02:34:00  1.13663  1.13687  1.13663  1.13687\n",
       "2022-01-03 02:35:00  1.13674  1.13687  1.13674  1.13674\n",
       "2022-01-03 02:36:00  1.13684  1.13684  1.13644  1.13644"
      ]
     },
     "execution_count": 93,
     "metadata": {},
     "output_type": "execute_result"
    }
   ],
   "source": [
    "df = df.drop([\"Date\",\"Time\",\"M\",\"Datetime\"],1)\n",
    "df.head()"
   ]
  },
  {
   "cell_type": "code",
   "execution_count": 94,
   "metadata": {},
   "outputs": [
    {
     "data": {
      "text/html": [
       "<div>\n",
       "<style scoped>\n",
       "    .dataframe tbody tr th:only-of-type {\n",
       "        vertical-align: middle;\n",
       "    }\n",
       "\n",
       "    .dataframe tbody tr th {\n",
       "        vertical-align: top;\n",
       "    }\n",
       "\n",
       "    .dataframe thead th {\n",
       "        text-align: right;\n",
       "    }\n",
       "</style>\n",
       "<table border=\"1\" class=\"dataframe\">\n",
       "  <thead>\n",
       "    <tr style=\"text-align: right;\">\n",
       "      <th></th>\n",
       "      <th>Currency</th>\n",
       "      <th>Description</th>\n",
       "      <th>Actual</th>\n",
       "      <th>Previous</th>\n",
       "    </tr>\n",
       "    <tr>\n",
       "      <th>Datetime</th>\n",
       "      <th></th>\n",
       "      <th></th>\n",
       "      <th></th>\n",
       "      <th></th>\n",
       "    </tr>\n",
       "  </thead>\n",
       "  <tbody>\n",
       "    <tr>\n",
       "      <th>2021-07-19 15:30:00</th>\n",
       "      <td>EUR</td>\n",
       "      <td>German Buba Monthly Report</td>\n",
       "      <td>NaN</td>\n",
       "      <td>NaN</td>\n",
       "    </tr>\n",
       "    <tr>\n",
       "      <th>2021-07-19 19:30:00</th>\n",
       "      <td>USD</td>\n",
       "      <td>NAHB Housing Market Index</td>\n",
       "      <td>80</td>\n",
       "      <td>81</td>\n",
       "    </tr>\n",
       "    <tr>\n",
       "      <th>2021-07-19 21:00:00</th>\n",
       "      <td>USD</td>\n",
       "      <td>President Biden Speaks</td>\n",
       "      <td>NaN</td>\n",
       "      <td>NaN</td>\n",
       "    </tr>\n",
       "    <tr>\n",
       "      <th>2021-07-20 11:30:00</th>\n",
       "      <td>EUR</td>\n",
       "      <td>German PPI m/m</td>\n",
       "      <td>0.013</td>\n",
       "      <td>0.015</td>\n",
       "    </tr>\n",
       "    <tr>\n",
       "      <th>2021-07-20 13:30:00</th>\n",
       "      <td>EUR</td>\n",
       "      <td>Current Account</td>\n",
       "      <td>11.7B</td>\n",
       "      <td>22.1B</td>\n",
       "    </tr>\n",
       "  </tbody>\n",
       "</table>\n",
       "</div>"
      ],
      "text/plain": [
       "                    Currency                 Description Actual Previous\n",
       "Datetime                                                                \n",
       "2021-07-19 15:30:00      EUR  German Buba Monthly Report    NaN      NaN\n",
       "2021-07-19 19:30:00      USD   NAHB Housing Market Index     80       81\n",
       "2021-07-19 21:00:00      USD      President Biden Speaks    NaN      NaN\n",
       "2021-07-20 11:30:00      EUR              German PPI m/m  0.013    0.015\n",
       "2021-07-20 13:30:00      EUR             Current Account  11.7B    22.1B"
      ]
     },
     "execution_count": 94,
     "metadata": {},
     "output_type": "execute_result"
    }
   ],
   "source": [
    "df2 = df2.drop([\"Date\",\"Time\",\"Forecast\",\"Datetime\"],1)\n",
    "df2.head()"
   ]
  },
  {
   "cell_type": "code",
   "execution_count": 95,
   "metadata": {},
   "outputs": [
    {
     "data": {
      "text/html": [
       "<div>\n",
       "<style scoped>\n",
       "    .dataframe tbody tr th:only-of-type {\n",
       "        vertical-align: middle;\n",
       "    }\n",
       "\n",
       "    .dataframe tbody tr th {\n",
       "        vertical-align: top;\n",
       "    }\n",
       "\n",
       "    .dataframe thead th {\n",
       "        text-align: right;\n",
       "    }\n",
       "</style>\n",
       "<table border=\"1\" class=\"dataframe\">\n",
       "  <thead>\n",
       "    <tr style=\"text-align: right;\">\n",
       "      <th></th>\n",
       "      <th>Open</th>\n",
       "      <th>High</th>\n",
       "      <th>Low</th>\n",
       "      <th>Close</th>\n",
       "      <th>Currency</th>\n",
       "      <th>Description</th>\n",
       "      <th>Actual</th>\n",
       "      <th>Previous</th>\n",
       "    </tr>\n",
       "    <tr>\n",
       "      <th>Datetime</th>\n",
       "      <th></th>\n",
       "      <th></th>\n",
       "      <th></th>\n",
       "      <th></th>\n",
       "      <th></th>\n",
       "      <th></th>\n",
       "      <th></th>\n",
       "      <th></th>\n",
       "    </tr>\n",
       "  </thead>\n",
       "  <tbody>\n",
       "    <tr>\n",
       "      <th>2022-01-03 02:32:00</th>\n",
       "      <td>1.13674</td>\n",
       "      <td>1.13674</td>\n",
       "      <td>1.13674</td>\n",
       "      <td>1.13674</td>\n",
       "      <td>NaN</td>\n",
       "      <td>NaN</td>\n",
       "      <td>NaN</td>\n",
       "      <td>NaN</td>\n",
       "    </tr>\n",
       "    <tr>\n",
       "      <th>2022-01-03 02:33:00</th>\n",
       "      <td>1.13663</td>\n",
       "      <td>1.13674</td>\n",
       "      <td>1.13663</td>\n",
       "      <td>1.13674</td>\n",
       "      <td>NaN</td>\n",
       "      <td>NaN</td>\n",
       "      <td>NaN</td>\n",
       "      <td>NaN</td>\n",
       "    </tr>\n",
       "    <tr>\n",
       "      <th>2022-01-03 02:34:00</th>\n",
       "      <td>1.13663</td>\n",
       "      <td>1.13687</td>\n",
       "      <td>1.13663</td>\n",
       "      <td>1.13687</td>\n",
       "      <td>NaN</td>\n",
       "      <td>NaN</td>\n",
       "      <td>NaN</td>\n",
       "      <td>NaN</td>\n",
       "    </tr>\n",
       "    <tr>\n",
       "      <th>2022-01-03 02:35:00</th>\n",
       "      <td>1.13674</td>\n",
       "      <td>1.13687</td>\n",
       "      <td>1.13674</td>\n",
       "      <td>1.13674</td>\n",
       "      <td>NaN</td>\n",
       "      <td>NaN</td>\n",
       "      <td>NaN</td>\n",
       "      <td>NaN</td>\n",
       "    </tr>\n",
       "    <tr>\n",
       "      <th>2022-01-03 02:36:00</th>\n",
       "      <td>1.13684</td>\n",
       "      <td>1.13684</td>\n",
       "      <td>1.13644</td>\n",
       "      <td>1.13644</td>\n",
       "      <td>NaN</td>\n",
       "      <td>NaN</td>\n",
       "      <td>NaN</td>\n",
       "      <td>NaN</td>\n",
       "    </tr>\n",
       "  </tbody>\n",
       "</table>\n",
       "</div>"
      ],
      "text/plain": [
       "                        Open     High      Low    Close Currency Description  \\\n",
       "Datetime                                                                       \n",
       "2022-01-03 02:32:00  1.13674  1.13674  1.13674  1.13674      NaN         NaN   \n",
       "2022-01-03 02:33:00  1.13663  1.13674  1.13663  1.13674      NaN         NaN   \n",
       "2022-01-03 02:34:00  1.13663  1.13687  1.13663  1.13687      NaN         NaN   \n",
       "2022-01-03 02:35:00  1.13674  1.13687  1.13674  1.13674      NaN         NaN   \n",
       "2022-01-03 02:36:00  1.13684  1.13684  1.13644  1.13644      NaN         NaN   \n",
       "\n",
       "                    Actual Previous  \n",
       "Datetime                             \n",
       "2022-01-03 02:32:00    NaN      NaN  \n",
       "2022-01-03 02:33:00    NaN      NaN  \n",
       "2022-01-03 02:34:00    NaN      NaN  \n",
       "2022-01-03 02:35:00    NaN      NaN  \n",
       "2022-01-03 02:36:00    NaN      NaN  "
      ]
     },
     "execution_count": 95,
     "metadata": {},
     "output_type": "execute_result"
    }
   ],
   "source": [
    "df_merged = df.join(df2,on='Datetime')\n",
    "df_merged.head()"
   ]
  },
  {
   "cell_type": "code",
   "execution_count": 96,
   "metadata": {},
   "outputs": [
    {
     "data": {
      "text/html": [
       "<div>\n",
       "<style scoped>\n",
       "    .dataframe tbody tr th:only-of-type {\n",
       "        vertical-align: middle;\n",
       "    }\n",
       "\n",
       "    .dataframe tbody tr th {\n",
       "        vertical-align: top;\n",
       "    }\n",
       "\n",
       "    .dataframe thead th {\n",
       "        text-align: right;\n",
       "    }\n",
       "</style>\n",
       "<table border=\"1\" class=\"dataframe\">\n",
       "  <thead>\n",
       "    <tr style=\"text-align: right;\">\n",
       "      <th></th>\n",
       "      <th>Open</th>\n",
       "      <th>High</th>\n",
       "      <th>Low</th>\n",
       "      <th>Close</th>\n",
       "      <th>Currency</th>\n",
       "      <th>Description</th>\n",
       "      <th>Actual</th>\n",
       "      <th>Previous</th>\n",
       "      <th>pip_value_for_Rs.10000</th>\n",
       "    </tr>\n",
       "    <tr>\n",
       "      <th>Datetime</th>\n",
       "      <th></th>\n",
       "      <th></th>\n",
       "      <th></th>\n",
       "      <th></th>\n",
       "      <th></th>\n",
       "      <th></th>\n",
       "      <th></th>\n",
       "      <th></th>\n",
       "      <th></th>\n",
       "    </tr>\n",
       "  </thead>\n",
       "  <tbody>\n",
       "    <tr>\n",
       "      <th>2022-01-03 02:32:00</th>\n",
       "      <td>1.13674</td>\n",
       "      <td>1.13674</td>\n",
       "      <td>1.13674</td>\n",
       "      <td>1.13674</td>\n",
       "      <td>NaN</td>\n",
       "      <td>NaN</td>\n",
       "      <td>NaN</td>\n",
       "      <td>NaN</td>\n",
       "      <td>0.000000</td>\n",
       "    </tr>\n",
       "    <tr>\n",
       "      <th>2022-01-03 02:33:00</th>\n",
       "      <td>1.13663</td>\n",
       "      <td>1.13674</td>\n",
       "      <td>1.13663</td>\n",
       "      <td>1.13674</td>\n",
       "      <td>NaN</td>\n",
       "      <td>NaN</td>\n",
       "      <td>NaN</td>\n",
       "      <td>NaN</td>\n",
       "      <td>0.967680</td>\n",
       "    </tr>\n",
       "    <tr>\n",
       "      <th>2022-01-03 02:34:00</th>\n",
       "      <td>1.13663</td>\n",
       "      <td>1.13687</td>\n",
       "      <td>1.13663</td>\n",
       "      <td>1.13687</td>\n",
       "      <td>NaN</td>\n",
       "      <td>NaN</td>\n",
       "      <td>NaN</td>\n",
       "      <td>NaN</td>\n",
       "      <td>2.111059</td>\n",
       "    </tr>\n",
       "    <tr>\n",
       "      <th>2022-01-03 02:35:00</th>\n",
       "      <td>1.13674</td>\n",
       "      <td>1.13687</td>\n",
       "      <td>1.13674</td>\n",
       "      <td>1.13674</td>\n",
       "      <td>NaN</td>\n",
       "      <td>NaN</td>\n",
       "      <td>NaN</td>\n",
       "      <td>NaN</td>\n",
       "      <td>0.000000</td>\n",
       "    </tr>\n",
       "    <tr>\n",
       "      <th>2022-01-03 02:36:00</th>\n",
       "      <td>1.13684</td>\n",
       "      <td>1.13684</td>\n",
       "      <td>1.13644</td>\n",
       "      <td>1.13644</td>\n",
       "      <td>NaN</td>\n",
       "      <td>NaN</td>\n",
       "      <td>NaN</td>\n",
       "      <td>NaN</td>\n",
       "      <td>-3.519763</td>\n",
       "    </tr>\n",
       "  </tbody>\n",
       "</table>\n",
       "</div>"
      ],
      "text/plain": [
       "                        Open     High      Low    Close Currency Description  \\\n",
       "Datetime                                                                       \n",
       "2022-01-03 02:32:00  1.13674  1.13674  1.13674  1.13674      NaN         NaN   \n",
       "2022-01-03 02:33:00  1.13663  1.13674  1.13663  1.13674      NaN         NaN   \n",
       "2022-01-03 02:34:00  1.13663  1.13687  1.13663  1.13687      NaN         NaN   \n",
       "2022-01-03 02:35:00  1.13674  1.13687  1.13674  1.13674      NaN         NaN   \n",
       "2022-01-03 02:36:00  1.13684  1.13684  1.13644  1.13644      NaN         NaN   \n",
       "\n",
       "                    Actual Previous  pip_value_for_Rs.10000  \n",
       "Datetime                                                     \n",
       "2022-01-03 02:32:00    NaN      NaN                0.000000  \n",
       "2022-01-03 02:33:00    NaN      NaN                0.967680  \n",
       "2022-01-03 02:34:00    NaN      NaN                2.111059  \n",
       "2022-01-03 02:35:00    NaN      NaN                0.000000  \n",
       "2022-01-03 02:36:00    NaN      NaN               -3.519763  "
      ]
     },
     "execution_count": 96,
     "metadata": {},
     "output_type": "execute_result"
    }
   ],
   "source": [
    "df_merged['pip_value_for_Rs.10000'] = (df['Close']-df['Open'])*10000/df['Close']\n",
    "df_merged.head()"
   ]
  },
  {
   "cell_type": "code",
   "execution_count": 97,
   "metadata": {},
   "outputs": [
    {
     "data": {
      "text/plain": [
       "<AxesSubplot:xlabel='Datetime'>"
      ]
     },
     "execution_count": 97,
     "metadata": {},
     "output_type": "execute_result"
    },
    {
     "data": {
      "image/png": "[encoded data removed]",
      "text/plain": [
       "<Figure size 432x288 with 1 Axes>"
      ]
     },
     "metadata": {
      "needs_background": "light"
     },
     "output_type": "display_data"
    }
   ],
   "source": [
    "df_merged['pip_value_for_Rs.10000'].plot()"
   ]
  },
  {
   "cell_type": "code",
   "execution_count": 104,
   "metadata": {},
   "outputs": [
    {
     "data": {
      "text/plain": [
       "<AxesSubplot:xlabel='Datetime'>"
      ]
     },
     "execution_count": 104,
     "metadata": {},
     "output_type": "execute_result"
    },
    {
     "data": {
      "image/png": "[encoded data removed]",
      "text/plain": [
       "<Figure size 432x288 with 1 Axes>"
      ]
     },
     "metadata": {
      "needs_background": "light"
     },
     "output_type": "display_data"
    }
   ],
   "source": [
    "df_merged[['Close']].plot()\n"
   ]
  },
  {
   "cell_type": "code",
   "execution_count": 10,
   "metadata": {},
   "outputs": [],
   "source": [
    "# df_merged.to_csv(\"Resources/Trade.csv\")"
   ]
  },
  {
   "cell_type": "code",
   "execution_count": 11,
   "metadata": {},
   "outputs": [
    {
     "data": {
      "text/plain": [
       "USD    82\n",
       "EUR    76\n",
       "Name: Currency, dtype: int64"
      ]
     },
     "execution_count": 11,
     "metadata": {},
     "output_type": "execute_result"
    }
   ],
   "source": [
    "df_merged['Currency'].value_counts()"
   ]
  },
  {
   "cell_type": "code",
   "execution_count": 12,
   "metadata": {},
   "outputs": [
    {
     "data": {
      "text/plain": [
       "30194"
      ]
     },
     "execution_count": 12,
     "metadata": {},
     "output_type": "execute_result"
    }
   ],
   "source": [
    "df_merged.shape[0]"
   ]
  },
  {
   "cell_type": "markdown",
   "metadata": {},
   "source": [
    "# Time series forecasting"
   ]
  },
  {
   "cell_type": "code",
   "execution_count": 132,
   "metadata": {},
   "outputs": [],
   "source": [
    "import seaborn as sns\n",
    "import matplotlib.pyplot as plt"
   ]
  },
  {
   "cell_type": "code",
   "execution_count": 133,
   "metadata": {},
   "outputs": [
    {
     "data": {
      "text/html": [
       "<div>\n",
       "<style scoped>\n",
       "    .dataframe tbody tr th:only-of-type {\n",
       "        vertical-align: middle;\n",
       "    }\n",
       "\n",
       "    .dataframe tbody tr th {\n",
       "        vertical-align: top;\n",
       "    }\n",
       "\n",
       "    .dataframe thead th {\n",
       "        text-align: right;\n",
       "    }\n",
       "</style>\n",
       "<table border=\"1\" class=\"dataframe\">\n",
       "  <thead>\n",
       "    <tr style=\"text-align: right;\">\n",
       "      <th></th>\n",
       "      <th>Close</th>\n",
       "    </tr>\n",
       "    <tr>\n",
       "      <th>Datetime</th>\n",
       "      <th></th>\n",
       "    </tr>\n",
       "  </thead>\n",
       "  <tbody>\n",
       "    <tr>\n",
       "      <th>2022-01-03 02:32:00</th>\n",
       "      <td>1.13674</td>\n",
       "    </tr>\n",
       "    <tr>\n",
       "      <th>2022-01-03 02:33:00</th>\n",
       "      <td>1.13674</td>\n",
       "    </tr>\n",
       "    <tr>\n",
       "      <th>2022-01-03 02:34:00</th>\n",
       "      <td>1.13687</td>\n",
       "    </tr>\n",
       "    <tr>\n",
       "      <th>2022-01-03 02:35:00</th>\n",
       "      <td>1.13674</td>\n",
       "    </tr>\n",
       "    <tr>\n",
       "      <th>2022-01-03 02:36:00</th>\n",
       "      <td>1.13644</td>\n",
       "    </tr>\n",
       "  </tbody>\n",
       "</table>\n",
       "</div>"
      ],
      "text/plain": [
       "                       Close\n",
       "Datetime                    \n",
       "2022-01-03 02:32:00  1.13674\n",
       "2022-01-03 02:33:00  1.13674\n",
       "2022-01-03 02:34:00  1.13687\n",
       "2022-01-03 02:35:00  1.13674\n",
       "2022-01-03 02:36:00  1.13644"
      ]
     },
     "execution_count": 133,
     "metadata": {},
     "output_type": "execute_result"
    }
   ],
   "source": [
    "X = df_merged[['Close']]\n",
    "X.head()"
   ]
  },
  {
   "cell_type": "code",
   "execution_count": 134,
   "metadata": {},
   "outputs": [],
   "source": [
    "from sklearn.preprocessing import MinMaxScaler"
   ]
  },
  {
   "cell_type": "code",
   "execution_count": 135,
   "metadata": {},
   "outputs": [
    {
     "data": {
      "text/plain": [
       "array([[0.68131257],\n",
       "       [0.68131257],\n",
       "       [0.6849277 ],\n",
       "       ...,\n",
       "       [0.30756396],\n",
       "       [0.30923248],\n",
       "       [0.30895439]])"
      ]
     },
     "execution_count": 135,
     "metadata": {},
     "output_type": "execute_result"
    }
   ],
   "source": [
    "scaler = MinMaxScaler(feature_range=(0,1))\n",
    "X_scaled = scaler.fit_transform(X)\n",
    "X_scaled"
   ]
  },
  {
   "cell_type": "code",
   "execution_count": 136,
   "metadata": {},
   "outputs": [],
   "source": [
    "hops = 60\n",
    "total_len = X_scaled.shape[0]\n",
    "X_train =[]\n",
    "Y_train = []\n",
    "for i in range(60,total_len):\n",
    "    X_train.append(X_scaled[i-60:i])\n",
    "    Y_train.append(X_scaled[i])\n",
    "X_train = np.array(X_train)\n",
    "Y_train = np.array(Y_train)"
   ]
  },
  {
   "cell_type": "code",
   "execution_count": 137,
   "metadata": {},
   "outputs": [
    {
     "data": {
      "text/plain": [
       "60"
      ]
     },
     "execution_count": 137,
     "metadata": {},
     "output_type": "execute_result"
    }
   ],
   "source": [
    "X_train.shape[1]"
   ]
  },
  {
   "cell_type": "code",
   "execution_count": 138,
   "metadata": {},
   "outputs": [],
   "source": [
    "from keras.models import Sequential\n",
    "from keras.layers import LSTM, Dense,Flatten,Dropout"
   ]
  },
  {
   "cell_type": "code",
   "execution_count": 139,
   "metadata": {},
   "outputs": [],
   "source": [
    "model = Sequential()\n",
    "model.add(LSTM(units=50,return_sequences=True,input_shape=(X_train.shape[1],1)))\n",
    "model.add(Dropout(0.2))\n",
    "model.add(LSTM(units=50))\n",
    "model.add(Dropout(0.2))\n",
    "model.add(Dense(1))\n",
    "model.compile(optimizer='adam',loss='mean_squared_error')"
   ]
  },
  {
   "cell_type": "code",
   "execution_count": 140,
   "metadata": {},
   "outputs": [
    {
     "name": "stdout",
     "output_type": "stream",
     "text": [
      "Epoch 1/6\n",
      "942/942 [==============================] - 30s 29ms/step - loss: 0.0046\n",
      "Epoch 2/6\n",
      "942/942 [==============================] - 27s 29ms/step - loss: 0.0016\n",
      "Epoch 3/6\n",
      "942/942 [==============================] - 29s 30ms/step - loss: 0.0011\n",
      "Epoch 4/6\n",
      "942/942 [==============================] - 29s 30ms/step - loss: 7.5379e-04\n",
      "Epoch 5/6\n",
      "942/942 [==============================] - 28s 30ms/step - loss: 5.4776e-04\n",
      "Epoch 6/6\n",
      "942/942 [==============================] - 29s 31ms/step - loss: 4.3170e-04\n"
     ]
    },
    {
     "data": {
      "text/plain": [
       "<keras.callbacks.History at 0x243c4f12c70>"
      ]
     },
     "execution_count": 140,
     "metadata": {},
     "output_type": "execute_result"
    }
   ],
   "source": [
    "model.fit(X_train,Y_train,epochs=6,batch_size=32)"
   ]
  },
  {
   "cell_type": "code",
   "execution_count": 141,
   "metadata": {},
   "outputs": [
    {
     "data": {
      "text/plain": [
       "(80, 1)"
      ]
     },
     "execution_count": 141,
     "metadata": {},
     "output_type": "execute_result"
    }
   ],
   "source": [
    "test = X_scaled[-80:]\n",
    "test.shape"
   ]
  },
  {
   "cell_type": "code",
   "execution_count": 142,
   "metadata": {},
   "outputs": [],
   "source": [
    "hops = 60\n",
    "X_test =[]\n",
    "Y_test = []\n",
    "for i in range(60,test.shape[0]):\n",
    "    X_test.append(test[i-60:i])\n",
    "X_test = np.array(X_test)"
   ]
  },
  {
   "cell_type": "code",
   "execution_count": 143,
   "metadata": {},
   "outputs": [
    {
     "name": "stdout",
     "output_type": "stream",
     "text": [
      "1/1 [==============================] - 1s 556ms/step\n"
     ]
    }
   ],
   "source": [
    "y_test_pred = model.predict(X_test)"
   ]
  },
  {
   "cell_type": "code",
   "execution_count": 144,
   "metadata": {},
   "outputs": [],
   "source": [
    "y_test_pred = scaler.inverse_transform(y_test_pred)\n",
    "y_test_actual = np.array(X[-20:].values)"
   ]
  },
  {
   "cell_type": "code",
   "execution_count": 145,
   "metadata": {},
   "outputs": [
    {
     "data": {
      "text/plain": [
       "array([1.1233227, 1.1233217, 1.1233232, 1.1233262, 1.1233321, 1.1233374,\n",
       "       1.1233431, 1.1233467, 1.123348 , 1.1233463, 1.1233497, 1.1233528,\n",
       "       1.123357 , 1.1233622, 1.123373 , 1.1233809, 1.1233919, 1.1234024,\n",
       "       1.1234118, 1.1234236], dtype=float32)"
      ]
     },
     "execution_count": 145,
     "metadata": {},
     "output_type": "execute_result"
    }
   ],
   "source": [
    "y_test_pred = y_test_pred.reshape(1,-1)\n",
    "y_test_actual = y_test_actual.reshape(1,-1)\n",
    "y_test_pred[0]"
   ]
  },
  {
   "cell_type": "code",
   "execution_count": 146,
   "metadata": {},
   "outputs": [
    {
     "data": {
      "text/plain": [
       "0.00010971758648029763"
      ]
     },
     "execution_count": 146,
     "metadata": {},
     "output_type": "execute_result"
    }
   ],
   "source": [
    "from sklearn.metrics import mean_squared_error\n",
    "RMSE = np.sqrt(mean_squared_error(y_test_actual,y_test_pred))\n",
    "RMSE\n",
    "# RMSE is very high for pip values while very low for open prices"
   ]
  },
  {
   "cell_type": "code",
   "execution_count": 147,
   "metadata": {},
   "outputs": [
    {
     "data": {
      "text/plain": [
       "[]"
      ]
     },
     "execution_count": 147,
     "metadata": {},
     "output_type": "execute_result"
    },
    {
     "data": {
      "image/png": "[encoded data removed]",
      "text/plain": [
       "<Figure size 432x288 with 1 Axes>"
      ]
     },
     "metadata": {
      "needs_background": "light"
     },
     "output_type": "display_data"
    }
   ],
   "source": [
    "%matplotlib inline \n",
    "y_pred = pd.Series(y_test_pred[0])\n",
    "y_actual = pd.Series(y_test_actual[0])\n",
    "plt.plot(y_pred,label='forecast')\n",
    "plt.plot(y_actual,label = 'actual_value')\n",
    "plt.legend()\n",
    "plt.plot()\n",
    "# Close - Close price correctly forecasts increasing trend and overestimates the closing price by around 0.0001\n",
    "# PIP - actual pip value is fluctuating between Rs.-0.5 to Rs.1 per minute while forecasted value is near -0.1"
   ]
  },
  {
   "cell_type": "code",
   "execution_count": 148,
   "metadata": {},
   "outputs": [
    {
     "data": {
      "text/plain": [
       "<AxesSubplot:ylabel='Density'>"
      ]
     },
     "execution_count": 148,
     "metadata": {},
     "output_type": "execute_result"
    },
    {
     "data": {
      "image/png": "[encoded data removed]",
      "text/plain": [
       "<Figure size 432x288 with 1 Axes>"
      ]
     },
     "metadata": {
      "needs_background": "light"
     },
     "output_type": "display_data"
    }
   ],
   "source": [
    "y_pred.plot(kind='kde')\n",
    "# normal distribution with little skewness"
   ]
  },
  {
   "cell_type": "code",
   "execution_count": 149,
   "metadata": {},
   "outputs": [
    {
     "data": {
      "text/plain": [
       "<AxesSubplot:ylabel='Density'>"
      ]
     },
     "execution_count": 149,
     "metadata": {},
     "output_type": "execute_result"
    },
    {
     "data": {
      "image/png": "[encoded data removed]",
      "text/plain": [
       "<Figure size 432x288 with 1 Axes>"
      ]
     },
     "metadata": {
      "needs_background": "light"
     },
     "output_type": "display_data"
    }
   ],
   "source": [
    "y_actual.plot(kind='kde')\n",
    "# similar distribution shape as distribution of forecasted values"
   ]
  },
  {
   "cell_type": "code",
   "execution_count": null,
   "metadata": {},
   "outputs": [],
   "source": [
    "# Conclusion: use time series forecasting to forecast open/close values and news prediction for getting impact of news on pip"
   ]
  },
  {
   "cell_type": "markdown",
   "metadata": {},
   "source": [
    "# Regression for pip prediction on forex calendar data"
   ]
  },
  {
   "cell_type": "code",
   "execution_count": 150,
   "metadata": {},
   "outputs": [],
   "source": [
    "# Target = pip value\n",
    "# feature = currency,description,actual,previous\n",
    "# index = Datetime"
   ]
  },
  {
   "cell_type": "code",
   "execution_count": 209,
   "metadata": {},
   "outputs": [
    {
     "data": {
      "text/html": [
       "<div>\n",
       "<style scoped>\n",
       "    .dataframe tbody tr th:only-of-type {\n",
       "        vertical-align: middle;\n",
       "    }\n",
       "\n",
       "    .dataframe tbody tr th {\n",
       "        vertical-align: top;\n",
       "    }\n",
       "\n",
       "    .dataframe thead th {\n",
       "        text-align: right;\n",
       "    }\n",
       "</style>\n",
       "<table border=\"1\" class=\"dataframe\">\n",
       "  <thead>\n",
       "    <tr style=\"text-align: right;\">\n",
       "      <th></th>\n",
       "      <th>Currency</th>\n",
       "      <th>Description</th>\n",
       "      <th>Actual</th>\n",
       "      <th>Previous</th>\n",
       "      <th>pip_value_for_Rs.10000</th>\n",
       "    </tr>\n",
       "    <tr>\n",
       "      <th>Datetime</th>\n",
       "      <th></th>\n",
       "      <th></th>\n",
       "      <th></th>\n",
       "      <th></th>\n",
       "      <th></th>\n",
       "    </tr>\n",
       "  </thead>\n",
       "  <tbody>\n",
       "    <tr>\n",
       "      <th>2022-01-03 02:32:00</th>\n",
       "      <td>NaN</td>\n",
       "      <td>NaN</td>\n",
       "      <td>NaN</td>\n",
       "      <td>NaN</td>\n",
       "      <td>0.000000</td>\n",
       "    </tr>\n",
       "    <tr>\n",
       "      <th>2022-01-03 02:33:00</th>\n",
       "      <td>NaN</td>\n",
       "      <td>NaN</td>\n",
       "      <td>NaN</td>\n",
       "      <td>NaN</td>\n",
       "      <td>0.967680</td>\n",
       "    </tr>\n",
       "    <tr>\n",
       "      <th>2022-01-03 02:34:00</th>\n",
       "      <td>NaN</td>\n",
       "      <td>NaN</td>\n",
       "      <td>NaN</td>\n",
       "      <td>NaN</td>\n",
       "      <td>2.111059</td>\n",
       "    </tr>\n",
       "    <tr>\n",
       "      <th>2022-01-03 02:35:00</th>\n",
       "      <td>NaN</td>\n",
       "      <td>NaN</td>\n",
       "      <td>NaN</td>\n",
       "      <td>NaN</td>\n",
       "      <td>0.000000</td>\n",
       "    </tr>\n",
       "    <tr>\n",
       "      <th>2022-01-03 02:36:00</th>\n",
       "      <td>NaN</td>\n",
       "      <td>NaN</td>\n",
       "      <td>NaN</td>\n",
       "      <td>NaN</td>\n",
       "      <td>-3.519763</td>\n",
       "    </tr>\n",
       "  </tbody>\n",
       "</table>\n",
       "</div>"
      ],
      "text/plain": [
       "                    Currency Description Actual Previous  \\\n",
       "Datetime                                                   \n",
       "2022-01-03 02:32:00      NaN         NaN    NaN      NaN   \n",
       "2022-01-03 02:33:00      NaN         NaN    NaN      NaN   \n",
       "2022-01-03 02:34:00      NaN         NaN    NaN      NaN   \n",
       "2022-01-03 02:35:00      NaN         NaN    NaN      NaN   \n",
       "2022-01-03 02:36:00      NaN         NaN    NaN      NaN   \n",
       "\n",
       "                     pip_value_for_Rs.10000  \n",
       "Datetime                                     \n",
       "2022-01-03 02:32:00                0.000000  \n",
       "2022-01-03 02:33:00                0.967680  \n",
       "2022-01-03 02:34:00                2.111059  \n",
       "2022-01-03 02:35:00                0.000000  \n",
       "2022-01-03 02:36:00               -3.519763  "
      ]
     },
     "execution_count": 209,
     "metadata": {},
     "output_type": "execute_result"
    }
   ],
   "source": [
    "forex = df_merged[['Currency','Description','Actual','Previous','pip_value_for_Rs.10000']]\n",
    "forex.head()"
   ]
  },
  {
   "cell_type": "code",
   "execution_count": 210,
   "metadata": {},
   "outputs": [
    {
     "name": "stderr",
     "output_type": "stream",
     "text": [
      "<ipython-input-210-d7023e5edf8e>:1: SettingWithCopyWarning: \n",
      "A value is trying to be set on a copy of a slice from a DataFrame.\n",
      "Try using .loc[row_indexer,col_indexer] = value instead\n",
      "\n",
      "See the caveats in the documentation: https://pandas.pydata.org/pandas-docs/stable/user_guide/indexing.html#returning-a-view-versus-a-copy\n",
      "  forex['Currency'] = forex['Currency'].apply(lambda x: -1 if x==\"EUR\" else 1)\n"
     ]
    },
    {
     "data": {
      "text/html": [
       "<div>\n",
       "<style scoped>\n",
       "    .dataframe tbody tr th:only-of-type {\n",
       "        vertical-align: middle;\n",
       "    }\n",
       "\n",
       "    .dataframe tbody tr th {\n",
       "        vertical-align: top;\n",
       "    }\n",
       "\n",
       "    .dataframe thead th {\n",
       "        text-align: right;\n",
       "    }\n",
       "</style>\n",
       "<table border=\"1\" class=\"dataframe\">\n",
       "  <thead>\n",
       "    <tr style=\"text-align: right;\">\n",
       "      <th></th>\n",
       "      <th>Currency</th>\n",
       "      <th>Description</th>\n",
       "      <th>Actual</th>\n",
       "      <th>Previous</th>\n",
       "      <th>pip_value_for_Rs.10000</th>\n",
       "    </tr>\n",
       "    <tr>\n",
       "      <th>Datetime</th>\n",
       "      <th></th>\n",
       "      <th></th>\n",
       "      <th></th>\n",
       "      <th></th>\n",
       "      <th></th>\n",
       "    </tr>\n",
       "  </thead>\n",
       "  <tbody>\n",
       "    <tr>\n",
       "      <th>2022-01-03 02:32:00</th>\n",
       "      <td>1</td>\n",
       "      <td>NaN</td>\n",
       "      <td>NaN</td>\n",
       "      <td>NaN</td>\n",
       "      <td>0.000000</td>\n",
       "    </tr>\n",
       "    <tr>\n",
       "      <th>2022-01-03 02:33:00</th>\n",
       "      <td>1</td>\n",
       "      <td>NaN</td>\n",
       "      <td>NaN</td>\n",
       "      <td>NaN</td>\n",
       "      <td>0.967680</td>\n",
       "    </tr>\n",
       "    <tr>\n",
       "      <th>2022-01-03 02:34:00</th>\n",
       "      <td>1</td>\n",
       "      <td>NaN</td>\n",
       "      <td>NaN</td>\n",
       "      <td>NaN</td>\n",
       "      <td>2.111059</td>\n",
       "    </tr>\n",
       "    <tr>\n",
       "      <th>2022-01-03 02:35:00</th>\n",
       "      <td>1</td>\n",
       "      <td>NaN</td>\n",
       "      <td>NaN</td>\n",
       "      <td>NaN</td>\n",
       "      <td>0.000000</td>\n",
       "    </tr>\n",
       "    <tr>\n",
       "      <th>2022-01-03 02:36:00</th>\n",
       "      <td>1</td>\n",
       "      <td>NaN</td>\n",
       "      <td>NaN</td>\n",
       "      <td>NaN</td>\n",
       "      <td>-3.519763</td>\n",
       "    </tr>\n",
       "  </tbody>\n",
       "</table>\n",
       "</div>"
      ],
      "text/plain": [
       "                     Currency Description Actual Previous  \\\n",
       "Datetime                                                    \n",
       "2022-01-03 02:32:00         1         NaN    NaN      NaN   \n",
       "2022-01-03 02:33:00         1         NaN    NaN      NaN   \n",
       "2022-01-03 02:34:00         1         NaN    NaN      NaN   \n",
       "2022-01-03 02:35:00         1         NaN    NaN      NaN   \n",
       "2022-01-03 02:36:00         1         NaN    NaN      NaN   \n",
       "\n",
       "                     pip_value_for_Rs.10000  \n",
       "Datetime                                     \n",
       "2022-01-03 02:32:00                0.000000  \n",
       "2022-01-03 02:33:00                0.967680  \n",
       "2022-01-03 02:34:00                2.111059  \n",
       "2022-01-03 02:35:00                0.000000  \n",
       "2022-01-03 02:36:00               -3.519763  "
      ]
     },
     "execution_count": 210,
     "metadata": {},
     "output_type": "execute_result"
    }
   ],
   "source": [
    "forex['Currency'] = forex['Currency'].apply(lambda x: -1 if x==\"EUR\" else 1)\n",
    "forex.head()"
   ]
  },
  {
   "cell_type": "code",
   "execution_count": 211,
   "metadata": {},
   "outputs": [
    {
     "data": {
      "text/html": [
       "<div>\n",
       "<style scoped>\n",
       "    .dataframe tbody tr th:only-of-type {\n",
       "        vertical-align: middle;\n",
       "    }\n",
       "\n",
       "    .dataframe tbody tr th {\n",
       "        vertical-align: top;\n",
       "    }\n",
       "\n",
       "    .dataframe thead th {\n",
       "        text-align: right;\n",
       "    }\n",
       "</style>\n",
       "<table border=\"1\" class=\"dataframe\">\n",
       "  <thead>\n",
       "    <tr style=\"text-align: right;\">\n",
       "      <th></th>\n",
       "      <th>Currency</th>\n",
       "      <th>Description</th>\n",
       "      <th>Actual</th>\n",
       "      <th>Previous</th>\n",
       "      <th>pip_value_for_Rs.10000</th>\n",
       "    </tr>\n",
       "    <tr>\n",
       "      <th>Datetime</th>\n",
       "      <th></th>\n",
       "      <th></th>\n",
       "      <th></th>\n",
       "      <th></th>\n",
       "      <th></th>\n",
       "    </tr>\n",
       "  </thead>\n",
       "  <tbody>\n",
       "    <tr>\n",
       "      <th>2022-01-03 13:45:00</th>\n",
       "      <td>-1</td>\n",
       "      <td>Spanish Manufacturing PMI</td>\n",
       "      <td>56.2</td>\n",
       "      <td>57.1</td>\n",
       "      <td>-0.352258</td>\n",
       "    </tr>\n",
       "    <tr>\n",
       "      <th>2022-01-03 14:15:00</th>\n",
       "      <td>-1</td>\n",
       "      <td>Italian Manufacturing PMI</td>\n",
       "      <td>62</td>\n",
       "      <td>62.8</td>\n",
       "      <td>-1.233861</td>\n",
       "    </tr>\n",
       "    <tr>\n",
       "      <th>2022-01-03 14:20:00</th>\n",
       "      <td>-1</td>\n",
       "      <td>French Final Manufacturing PMI</td>\n",
       "      <td>55.6</td>\n",
       "      <td>54.9</td>\n",
       "      <td>1.849862</td>\n",
       "    </tr>\n",
       "    <tr>\n",
       "      <th>2022-01-03 14:25:00</th>\n",
       "      <td>-1</td>\n",
       "      <td>German Final Manufacturing PMI</td>\n",
       "      <td>57.4</td>\n",
       "      <td>57.9</td>\n",
       "      <td>-2.202313</td>\n",
       "    </tr>\n",
       "    <tr>\n",
       "      <th>2022-01-03 14:30:00</th>\n",
       "      <td>-1</td>\n",
       "      <td>Final Manufacturing PMI</td>\n",
       "      <td>58</td>\n",
       "      <td>58</td>\n",
       "      <td>2.994302</td>\n",
       "    </tr>\n",
       "  </tbody>\n",
       "</table>\n",
       "</div>"
      ],
      "text/plain": [
       "                     Currency                     Description Actual Previous  \\\n",
       "Datetime                                                                        \n",
       "2022-01-03 13:45:00        -1       Spanish Manufacturing PMI   56.2     57.1   \n",
       "2022-01-03 14:15:00        -1       Italian Manufacturing PMI     62     62.8   \n",
       "2022-01-03 14:20:00        -1  French Final Manufacturing PMI   55.6     54.9   \n",
       "2022-01-03 14:25:00        -1  German Final Manufacturing PMI   57.4     57.9   \n",
       "2022-01-03 14:30:00        -1         Final Manufacturing PMI     58       58   \n",
       "\n",
       "                     pip_value_for_Rs.10000  \n",
       "Datetime                                     \n",
       "2022-01-03 13:45:00               -0.352258  \n",
       "2022-01-03 14:15:00               -1.233861  \n",
       "2022-01-03 14:20:00                1.849862  \n",
       "2022-01-03 14:25:00               -2.202313  \n",
       "2022-01-03 14:30:00                2.994302  "
      ]
     },
     "execution_count": 211,
     "metadata": {},
     "output_type": "execute_result"
    }
   ],
   "source": [
    "forex = forex.dropna(0)\n",
    "# forex[['Actual','Previous']] = forex[['Actual','Previous']].astype(float)\n",
    "forex.head()"
   ]
  },
  {
   "cell_type": "code",
   "execution_count": 217,
   "metadata": {},
   "outputs": [
    {
     "data": {
      "text/plain": [
       "Unemployment Claims                   4\n",
       "Natural Gas Storage                   4\n",
       "Crude Oil Inventories                 4\n",
       "Final Services PMI                    2\n",
       "Final Manufacturing PMI               2\n",
       "                                     ..\n",
       "ZEW Economic Sentiment                1\n",
       "Federal Funds Rate                    1\n",
       "German Retail Sales m/m               1\n",
       "Housing Starts                        1\n",
       "Revised UoM Inflation Expectations    1\n",
       "Name: Description, Length: 123, dtype: int64"
      ]
     },
     "execution_count": 217,
     "metadata": {},
     "output_type": "execute_result"
    }
   ],
   "source": [
    "forex.Description.value_counts()\n",
    "# insufficient data"
   ]
  },
  {
   "cell_type": "code",
   "execution_count": 218,
   "metadata": {},
   "outputs": [
    {
     "data": {
      "text/plain": [
       "<AxesSubplot:xlabel='Description'>"
      ]
     },
     "execution_count": 218,
     "metadata": {},
     "output_type": "execute_result"
    },
    {
     "data": {
      "image/png": "[encoded data removed]",
      "text/plain": [
       "<Figure size 432x288 with 1 Axes>"
      ]
     },
     "metadata": {
      "needs_background": "light"
     },
     "output_type": "display_data"
    }
   ],
   "source": [
    "forex[forex['Description']=='Unemployment Claims'].plot.bar(x='Description',y='pip_value_for_Rs.10000')"
   ]
  },
  {
   "cell_type": "code",
   "execution_count": 195,
   "metadata": {},
   "outputs": [
    {
     "data": {
      "text/html": [
       "<div>\n",
       "<style scoped>\n",
       "    .dataframe tbody tr th:only-of-type {\n",
       "        vertical-align: middle;\n",
       "    }\n",
       "\n",
       "    .dataframe tbody tr th {\n",
       "        vertical-align: top;\n",
       "    }\n",
       "\n",
       "    .dataframe thead th {\n",
       "        text-align: right;\n",
       "    }\n",
       "</style>\n",
       "<table border=\"1\" class=\"dataframe\">\n",
       "  <thead>\n",
       "    <tr style=\"text-align: right;\">\n",
       "      <th></th>\n",
       "      <th>Currency</th>\n",
       "      <th>Description</th>\n",
       "      <th>Actual</th>\n",
       "      <th>Previous</th>\n",
       "      <th>pip_value_for_Rs.10000</th>\n",
       "      <th>ADP Non-Farm Employment Change</th>\n",
       "      <th>Advance GDP Price Index q/q</th>\n",
       "      <th>Advance GDP q/q</th>\n",
       "      <th>Average Hourly Earnings m/m</th>\n",
       "      <th>Belgian NBB Business Climate</th>\n",
       "      <th>...</th>\n",
       "      <th>Spanish Flash GDP q/q</th>\n",
       "      <th>Spanish Manufacturing PMI</th>\n",
       "      <th>Spanish Services PMI</th>\n",
       "      <th>Spanish Unemployment Change</th>\n",
       "      <th>Spanish Unemployment Rate</th>\n",
       "      <th>TIC Long-Term Purchases</th>\n",
       "      <th>Trade Balance</th>\n",
       "      <th>Unemployment Claims</th>\n",
       "      <th>Unemployment Rate</th>\n",
       "      <th>ZEW Economic Sentiment</th>\n",
       "    </tr>\n",
       "    <tr>\n",
       "      <th>Datetime</th>\n",
       "      <th></th>\n",
       "      <th></th>\n",
       "      <th></th>\n",
       "      <th></th>\n",
       "      <th></th>\n",
       "      <th></th>\n",
       "      <th></th>\n",
       "      <th></th>\n",
       "      <th></th>\n",
       "      <th></th>\n",
       "      <th></th>\n",
       "      <th></th>\n",
       "      <th></th>\n",
       "      <th></th>\n",
       "      <th></th>\n",
       "      <th></th>\n",
       "      <th></th>\n",
       "      <th></th>\n",
       "      <th></th>\n",
       "      <th></th>\n",
       "      <th></th>\n",
       "    </tr>\n",
       "  </thead>\n",
       "  <tbody>\n",
       "    <tr>\n",
       "      <th>2022-01-03 13:45:00</th>\n",
       "      <td>-1</td>\n",
       "      <td>Spanish Manufacturing PMI</td>\n",
       "      <td>56.2</td>\n",
       "      <td>57.1</td>\n",
       "      <td>-0.352258</td>\n",
       "      <td>0</td>\n",
       "      <td>0</td>\n",
       "      <td>0</td>\n",
       "      <td>0</td>\n",
       "      <td>0</td>\n",
       "      <td>...</td>\n",
       "      <td>0</td>\n",
       "      <td>1</td>\n",
       "      <td>0</td>\n",
       "      <td>0</td>\n",
       "      <td>0</td>\n",
       "      <td>0</td>\n",
       "      <td>0</td>\n",
       "      <td>0</td>\n",
       "      <td>0</td>\n",
       "      <td>0</td>\n",
       "    </tr>\n",
       "    <tr>\n",
       "      <th>2022-01-03 14:15:00</th>\n",
       "      <td>-1</td>\n",
       "      <td>Italian Manufacturing PMI</td>\n",
       "      <td>62</td>\n",
       "      <td>62.8</td>\n",
       "      <td>-1.233861</td>\n",
       "      <td>0</td>\n",
       "      <td>0</td>\n",
       "      <td>0</td>\n",
       "      <td>0</td>\n",
       "      <td>0</td>\n",
       "      <td>...</td>\n",
       "      <td>0</td>\n",
       "      <td>0</td>\n",
       "      <td>0</td>\n",
       "      <td>0</td>\n",
       "      <td>0</td>\n",
       "      <td>0</td>\n",
       "      <td>0</td>\n",
       "      <td>0</td>\n",
       "      <td>0</td>\n",
       "      <td>0</td>\n",
       "    </tr>\n",
       "    <tr>\n",
       "      <th>2022-01-03 14:20:00</th>\n",
       "      <td>-1</td>\n",
       "      <td>French Final Manufacturing PMI</td>\n",
       "      <td>55.6</td>\n",
       "      <td>54.9</td>\n",
       "      <td>1.849862</td>\n",
       "      <td>0</td>\n",
       "      <td>0</td>\n",
       "      <td>0</td>\n",
       "      <td>0</td>\n",
       "      <td>0</td>\n",
       "      <td>...</td>\n",
       "      <td>0</td>\n",
       "      <td>0</td>\n",
       "      <td>0</td>\n",
       "      <td>0</td>\n",
       "      <td>0</td>\n",
       "      <td>0</td>\n",
       "      <td>0</td>\n",
       "      <td>0</td>\n",
       "      <td>0</td>\n",
       "      <td>0</td>\n",
       "    </tr>\n",
       "    <tr>\n",
       "      <th>2022-01-03 14:25:00</th>\n",
       "      <td>-1</td>\n",
       "      <td>German Final Manufacturing PMI</td>\n",
       "      <td>57.4</td>\n",
       "      <td>57.9</td>\n",
       "      <td>-2.202313</td>\n",
       "      <td>0</td>\n",
       "      <td>0</td>\n",
       "      <td>0</td>\n",
       "      <td>0</td>\n",
       "      <td>0</td>\n",
       "      <td>...</td>\n",
       "      <td>0</td>\n",
       "      <td>0</td>\n",
       "      <td>0</td>\n",
       "      <td>0</td>\n",
       "      <td>0</td>\n",
       "      <td>0</td>\n",
       "      <td>0</td>\n",
       "      <td>0</td>\n",
       "      <td>0</td>\n",
       "      <td>0</td>\n",
       "    </tr>\n",
       "    <tr>\n",
       "      <th>2022-01-03 14:30:00</th>\n",
       "      <td>-1</td>\n",
       "      <td>Final Manufacturing PMI</td>\n",
       "      <td>58</td>\n",
       "      <td>58</td>\n",
       "      <td>2.994302</td>\n",
       "      <td>0</td>\n",
       "      <td>0</td>\n",
       "      <td>0</td>\n",
       "      <td>0</td>\n",
       "      <td>0</td>\n",
       "      <td>...</td>\n",
       "      <td>0</td>\n",
       "      <td>0</td>\n",
       "      <td>0</td>\n",
       "      <td>0</td>\n",
       "      <td>0</td>\n",
       "      <td>0</td>\n",
       "      <td>0</td>\n",
       "      <td>0</td>\n",
       "      <td>0</td>\n",
       "      <td>0</td>\n",
       "    </tr>\n",
       "  </tbody>\n",
       "</table>\n",
       "<p>5 rows × 128 columns</p>\n",
       "</div>"
      ],
      "text/plain": [
       "                     Currency                     Description Actual Previous  \\\n",
       "Datetime                                                                        \n",
       "2022-01-03 13:45:00        -1       Spanish Manufacturing PMI   56.2     57.1   \n",
       "2022-01-03 14:15:00        -1       Italian Manufacturing PMI     62     62.8   \n",
       "2022-01-03 14:20:00        -1  French Final Manufacturing PMI   55.6     54.9   \n",
       "2022-01-03 14:25:00        -1  German Final Manufacturing PMI   57.4     57.9   \n",
       "2022-01-03 14:30:00        -1         Final Manufacturing PMI     58       58   \n",
       "\n",
       "                     pip_value_for_Rs.10000  ADP Non-Farm Employment Change  \\\n",
       "Datetime                                                                      \n",
       "2022-01-03 13:45:00               -0.352258                               0   \n",
       "2022-01-03 14:15:00               -1.233861                               0   \n",
       "2022-01-03 14:20:00                1.849862                               0   \n",
       "2022-01-03 14:25:00               -2.202313                               0   \n",
       "2022-01-03 14:30:00                2.994302                               0   \n",
       "\n",
       "                     Advance GDP Price Index q/q  Advance GDP q/q  \\\n",
       "Datetime                                                            \n",
       "2022-01-03 13:45:00                            0                0   \n",
       "2022-01-03 14:15:00                            0                0   \n",
       "2022-01-03 14:20:00                            0                0   \n",
       "2022-01-03 14:25:00                            0                0   \n",
       "2022-01-03 14:30:00                            0                0   \n",
       "\n",
       "                     Average Hourly Earnings m/m  \\\n",
       "Datetime                                           \n",
       "2022-01-03 13:45:00                            0   \n",
       "2022-01-03 14:15:00                            0   \n",
       "2022-01-03 14:20:00                            0   \n",
       "2022-01-03 14:25:00                            0   \n",
       "2022-01-03 14:30:00                            0   \n",
       "\n",
       "                     Belgian NBB Business Climate  ...  Spanish Flash GDP q/q  \\\n",
       "Datetime                                           ...                          \n",
       "2022-01-03 13:45:00                             0  ...                      0   \n",
       "2022-01-03 14:15:00                             0  ...                      0   \n",
       "2022-01-03 14:20:00                             0  ...                      0   \n",
       "2022-01-03 14:25:00                             0  ...                      0   \n",
       "2022-01-03 14:30:00                             0  ...                      0   \n",
       "\n",
       "                     Spanish Manufacturing PMI  Spanish Services PMI  \\\n",
       "Datetime                                                               \n",
       "2022-01-03 13:45:00                          1                     0   \n",
       "2022-01-03 14:15:00                          0                     0   \n",
       "2022-01-03 14:20:00                          0                     0   \n",
       "2022-01-03 14:25:00                          0                     0   \n",
       "2022-01-03 14:30:00                          0                     0   \n",
       "\n",
       "                     Spanish Unemployment Change  Spanish Unemployment Rate  \\\n",
       "Datetime                                                                      \n",
       "2022-01-03 13:45:00                            0                          0   \n",
       "2022-01-03 14:15:00                            0                          0   \n",
       "2022-01-03 14:20:00                            0                          0   \n",
       "2022-01-03 14:25:00                            0                          0   \n",
       "2022-01-03 14:30:00                            0                          0   \n",
       "\n",
       "                     TIC Long-Term Purchases  Trade Balance  \\\n",
       "Datetime                                                      \n",
       "2022-01-03 13:45:00                        0              0   \n",
       "2022-01-03 14:15:00                        0              0   \n",
       "2022-01-03 14:20:00                        0              0   \n",
       "2022-01-03 14:25:00                        0              0   \n",
       "2022-01-03 14:30:00                        0              0   \n",
       "\n",
       "                     Unemployment Claims  Unemployment Rate  \\\n",
       "Datetime                                                      \n",
       "2022-01-03 13:45:00                    0                  0   \n",
       "2022-01-03 14:15:00                    0                  0   \n",
       "2022-01-03 14:20:00                    0                  0   \n",
       "2022-01-03 14:25:00                    0                  0   \n",
       "2022-01-03 14:30:00                    0                  0   \n",
       "\n",
       "                     ZEW Economic Sentiment  \n",
       "Datetime                                     \n",
       "2022-01-03 13:45:00                       0  \n",
       "2022-01-03 14:15:00                       0  \n",
       "2022-01-03 14:20:00                       0  \n",
       "2022-01-03 14:25:00                       0  \n",
       "2022-01-03 14:30:00                       0  \n",
       "\n",
       "[5 rows x 128 columns]"
      ]
     },
     "execution_count": 195,
     "metadata": {},
     "output_type": "execute_result"
    }
   ],
   "source": [
    "forex = forex.join(pd.get_dummies(forex['Description']))\n",
    "forex.head()"
   ]
  },
  {
   "cell_type": "code",
   "execution_count": 196,
   "metadata": {},
   "outputs": [
    {
     "data": {
      "text/html": [
       "<div>\n",
       "<style scoped>\n",
       "    .dataframe tbody tr th:only-of-type {\n",
       "        vertical-align: middle;\n",
       "    }\n",
       "\n",
       "    .dataframe tbody tr th {\n",
       "        vertical-align: top;\n",
       "    }\n",
       "\n",
       "    .dataframe thead th {\n",
       "        text-align: right;\n",
       "    }\n",
       "</style>\n",
       "<table border=\"1\" class=\"dataframe\">\n",
       "  <thead>\n",
       "    <tr style=\"text-align: right;\">\n",
       "      <th></th>\n",
       "      <th>Currency</th>\n",
       "      <th>Actual</th>\n",
       "      <th>Previous</th>\n",
       "      <th>ADP Non-Farm Employment Change</th>\n",
       "      <th>Advance GDP Price Index q/q</th>\n",
       "      <th>Advance GDP q/q</th>\n",
       "      <th>Average Hourly Earnings m/m</th>\n",
       "      <th>Belgian NBB Business Climate</th>\n",
       "      <th>Building Permits</th>\n",
       "      <th>Business Inventories m/m</th>\n",
       "      <th>...</th>\n",
       "      <th>Spanish Flash GDP q/q</th>\n",
       "      <th>Spanish Manufacturing PMI</th>\n",
       "      <th>Spanish Services PMI</th>\n",
       "      <th>Spanish Unemployment Change</th>\n",
       "      <th>Spanish Unemployment Rate</th>\n",
       "      <th>TIC Long-Term Purchases</th>\n",
       "      <th>Trade Balance</th>\n",
       "      <th>Unemployment Claims</th>\n",
       "      <th>Unemployment Rate</th>\n",
       "      <th>ZEW Economic Sentiment</th>\n",
       "    </tr>\n",
       "    <tr>\n",
       "      <th>Datetime</th>\n",
       "      <th></th>\n",
       "      <th></th>\n",
       "      <th></th>\n",
       "      <th></th>\n",
       "      <th></th>\n",
       "      <th></th>\n",
       "      <th></th>\n",
       "      <th></th>\n",
       "      <th></th>\n",
       "      <th></th>\n",
       "      <th></th>\n",
       "      <th></th>\n",
       "      <th></th>\n",
       "      <th></th>\n",
       "      <th></th>\n",
       "      <th></th>\n",
       "      <th></th>\n",
       "      <th></th>\n",
       "      <th></th>\n",
       "      <th></th>\n",
       "      <th></th>\n",
       "    </tr>\n",
       "  </thead>\n",
       "  <tbody>\n",
       "    <tr>\n",
       "      <th>2022-01-03 13:45:00</th>\n",
       "      <td>-1</td>\n",
       "      <td>56.2</td>\n",
       "      <td>57.1</td>\n",
       "      <td>0</td>\n",
       "      <td>0</td>\n",
       "      <td>0</td>\n",
       "      <td>0</td>\n",
       "      <td>0</td>\n",
       "      <td>0</td>\n",
       "      <td>0</td>\n",
       "      <td>...</td>\n",
       "      <td>0</td>\n",
       "      <td>1</td>\n",
       "      <td>0</td>\n",
       "      <td>0</td>\n",
       "      <td>0</td>\n",
       "      <td>0</td>\n",
       "      <td>0</td>\n",
       "      <td>0</td>\n",
       "      <td>0</td>\n",
       "      <td>0</td>\n",
       "    </tr>\n",
       "    <tr>\n",
       "      <th>2022-01-03 14:15:00</th>\n",
       "      <td>-1</td>\n",
       "      <td>62</td>\n",
       "      <td>62.8</td>\n",
       "      <td>0</td>\n",
       "      <td>0</td>\n",
       "      <td>0</td>\n",
       "      <td>0</td>\n",
       "      <td>0</td>\n",
       "      <td>0</td>\n",
       "      <td>0</td>\n",
       "      <td>...</td>\n",
       "      <td>0</td>\n",
       "      <td>0</td>\n",
       "      <td>0</td>\n",
       "      <td>0</td>\n",
       "      <td>0</td>\n",
       "      <td>0</td>\n",
       "      <td>0</td>\n",
       "      <td>0</td>\n",
       "      <td>0</td>\n",
       "      <td>0</td>\n",
       "    </tr>\n",
       "    <tr>\n",
       "      <th>2022-01-03 14:20:00</th>\n",
       "      <td>-1</td>\n",
       "      <td>55.6</td>\n",
       "      <td>54.9</td>\n",
       "      <td>0</td>\n",
       "      <td>0</td>\n",
       "      <td>0</td>\n",
       "      <td>0</td>\n",
       "      <td>0</td>\n",
       "      <td>0</td>\n",
       "      <td>0</td>\n",
       "      <td>...</td>\n",
       "      <td>0</td>\n",
       "      <td>0</td>\n",
       "      <td>0</td>\n",
       "      <td>0</td>\n",
       "      <td>0</td>\n",
       "      <td>0</td>\n",
       "      <td>0</td>\n",
       "      <td>0</td>\n",
       "      <td>0</td>\n",
       "      <td>0</td>\n",
       "    </tr>\n",
       "    <tr>\n",
       "      <th>2022-01-03 14:25:00</th>\n",
       "      <td>-1</td>\n",
       "      <td>57.4</td>\n",
       "      <td>57.9</td>\n",
       "      <td>0</td>\n",
       "      <td>0</td>\n",
       "      <td>0</td>\n",
       "      <td>0</td>\n",
       "      <td>0</td>\n",
       "      <td>0</td>\n",
       "      <td>0</td>\n",
       "      <td>...</td>\n",
       "      <td>0</td>\n",
       "      <td>0</td>\n",
       "      <td>0</td>\n",
       "      <td>0</td>\n",
       "      <td>0</td>\n",
       "      <td>0</td>\n",
       "      <td>0</td>\n",
       "      <td>0</td>\n",
       "      <td>0</td>\n",
       "      <td>0</td>\n",
       "    </tr>\n",
       "    <tr>\n",
       "      <th>2022-01-03 14:30:00</th>\n",
       "      <td>-1</td>\n",
       "      <td>58</td>\n",
       "      <td>58</td>\n",
       "      <td>0</td>\n",
       "      <td>0</td>\n",
       "      <td>0</td>\n",
       "      <td>0</td>\n",
       "      <td>0</td>\n",
       "      <td>0</td>\n",
       "      <td>0</td>\n",
       "      <td>...</td>\n",
       "      <td>0</td>\n",
       "      <td>0</td>\n",
       "      <td>0</td>\n",
       "      <td>0</td>\n",
       "      <td>0</td>\n",
       "      <td>0</td>\n",
       "      <td>0</td>\n",
       "      <td>0</td>\n",
       "      <td>0</td>\n",
       "      <td>0</td>\n",
       "    </tr>\n",
       "  </tbody>\n",
       "</table>\n",
       "<p>5 rows × 126 columns</p>\n",
       "</div>"
      ],
      "text/plain": [
       "                     Currency Actual Previous  ADP Non-Farm Employment Change  \\\n",
       "Datetime                                                                        \n",
       "2022-01-03 13:45:00        -1   56.2     57.1                               0   \n",
       "2022-01-03 14:15:00        -1     62     62.8                               0   \n",
       "2022-01-03 14:20:00        -1   55.6     54.9                               0   \n",
       "2022-01-03 14:25:00        -1   57.4     57.9                               0   \n",
       "2022-01-03 14:30:00        -1     58       58                               0   \n",
       "\n",
       "                     Advance GDP Price Index q/q  Advance GDP q/q  \\\n",
       "Datetime                                                            \n",
       "2022-01-03 13:45:00                            0                0   \n",
       "2022-01-03 14:15:00                            0                0   \n",
       "2022-01-03 14:20:00                            0                0   \n",
       "2022-01-03 14:25:00                            0                0   \n",
       "2022-01-03 14:30:00                            0                0   \n",
       "\n",
       "                     Average Hourly Earnings m/m  \\\n",
       "Datetime                                           \n",
       "2022-01-03 13:45:00                            0   \n",
       "2022-01-03 14:15:00                            0   \n",
       "2022-01-03 14:20:00                            0   \n",
       "2022-01-03 14:25:00                            0   \n",
       "2022-01-03 14:30:00                            0   \n",
       "\n",
       "                     Belgian NBB Business Climate  Building Permits  \\\n",
       "Datetime                                                              \n",
       "2022-01-03 13:45:00                             0                 0   \n",
       "2022-01-03 14:15:00                             0                 0   \n",
       "2022-01-03 14:20:00                             0                 0   \n",
       "2022-01-03 14:25:00                             0                 0   \n",
       "2022-01-03 14:30:00                             0                 0   \n",
       "\n",
       "                     Business Inventories m/m  ...  Spanish Flash GDP q/q  \\\n",
       "Datetime                                       ...                          \n",
       "2022-01-03 13:45:00                         0  ...                      0   \n",
       "2022-01-03 14:15:00                         0  ...                      0   \n",
       "2022-01-03 14:20:00                         0  ...                      0   \n",
       "2022-01-03 14:25:00                         0  ...                      0   \n",
       "2022-01-03 14:30:00                         0  ...                      0   \n",
       "\n",
       "                     Spanish Manufacturing PMI  Spanish Services PMI  \\\n",
       "Datetime                                                               \n",
       "2022-01-03 13:45:00                          1                     0   \n",
       "2022-01-03 14:15:00                          0                     0   \n",
       "2022-01-03 14:20:00                          0                     0   \n",
       "2022-01-03 14:25:00                          0                     0   \n",
       "2022-01-03 14:30:00                          0                     0   \n",
       "\n",
       "                     Spanish Unemployment Change  Spanish Unemployment Rate  \\\n",
       "Datetime                                                                      \n",
       "2022-01-03 13:45:00                            0                          0   \n",
       "2022-01-03 14:15:00                            0                          0   \n",
       "2022-01-03 14:20:00                            0                          0   \n",
       "2022-01-03 14:25:00                            0                          0   \n",
       "2022-01-03 14:30:00                            0                          0   \n",
       "\n",
       "                     TIC Long-Term Purchases  Trade Balance  \\\n",
       "Datetime                                                      \n",
       "2022-01-03 13:45:00                        0              0   \n",
       "2022-01-03 14:15:00                        0              0   \n",
       "2022-01-03 14:20:00                        0              0   \n",
       "2022-01-03 14:25:00                        0              0   \n",
       "2022-01-03 14:30:00                        0              0   \n",
       "\n",
       "                     Unemployment Claims  Unemployment Rate  \\\n",
       "Datetime                                                      \n",
       "2022-01-03 13:45:00                    0                  0   \n",
       "2022-01-03 14:15:00                    0                  0   \n",
       "2022-01-03 14:20:00                    0                  0   \n",
       "2022-01-03 14:25:00                    0                  0   \n",
       "2022-01-03 14:30:00                    0                  0   \n",
       "\n",
       "                     ZEW Economic Sentiment  \n",
       "Datetime                                     \n",
       "2022-01-03 13:45:00                       0  \n",
       "2022-01-03 14:15:00                       0  \n",
       "2022-01-03 14:20:00                       0  \n",
       "2022-01-03 14:25:00                       0  \n",
       "2022-01-03 14:30:00                       0  \n",
       "\n",
       "[5 rows x 126 columns]"
      ]
     },
     "execution_count": 196,
     "metadata": {},
     "output_type": "execute_result"
    }
   ],
   "source": [
    "Y = forex['pip_value_for_Rs.10000']\n",
    "X = forex.drop(['Description','pip_value_for_Rs.10000'],1)\n",
    "X.head()"
   ]
  },
  {
   "cell_type": "code",
   "execution_count": null,
   "metadata": {},
   "outputs": [],
   "source": [
    "from sklearn.model_selection import train_test_split\n",
    "X_train,Y_train,X_test,Y_test = train_test_split(X,Y,test_size=0.3)"
   ]
  },
  {
   "cell_type": "code",
   "execution_count": 198,
   "metadata": {},
   "outputs": [],
   "source": [
    "from sklearn.linear_model import LinearRegression\n",
    "lr = LinearRegression()"
   ]
  },
  {
   "cell_type": "code",
   "execution_count": null,
   "metadata": {},
   "outputs": [],
   "source": [
    "lr.fit(X_train,Y_train)"
   ]
  },
  {
   "cell_type": "code",
   "execution_count": null,
   "metadata": {},
   "outputs": [],
   "source": [
    "lr.score(X_test,Y_test)"
   ]
  },
  {
   "cell_type": "code",
   "execution_count": null,
   "metadata": {},
   "outputs": [],
   "source": [
    "lr.predict(X_test)"
   ]
  },
  {
   "cell_type": "markdown",
   "metadata": {},
   "source": [
    "# NLP sentiment analysis pip prediction to get news impact"
   ]
  },
  {
   "cell_type": "code",
   "execution_count": null,
   "metadata": {},
   "outputs": [],
   "source": []
  }
 ],
 "metadata": {
  "kernelspec": {
   "display_name": "Python 3",
   "language": "python",
   "name": "python3"
  },
  "language_info": {
   "codemirror_mode": {
    "name": "ipython",
    "version": 3
   },
   "file_extension": ".py",
   "mimetype": "text/x-python",
   "name": "python",
   "nbconvert_exporter": "python",
   "pygments_lexer": "ipython3",
   "version": "3.8.5"
  }
 },
 "nbformat": 4,
 "nbformat_minor": 4
}
